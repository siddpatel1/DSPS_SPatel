{
 "cells": [
  {
   "cell_type": "markdown",
   "metadata": {
    "colab_type": "text",
    "id": "view-in-github"
   },
   "source": [
    "<a href=\"https://colab.research.google.com/github/siddpatel1/DSPS_SPatel/blob/main/HW10/sidpatel_hw10_digit_recognition_autoencoder.ipynb\" target=\"_parent\"><img src=\"https://colab.research.google.com/assets/colab-badge.svg\" alt=\"Open In Colab\"/></a>"
   ]
  },
  {
   "cell_type": "code",
   "execution_count": null,
   "metadata": {
    "id": "WEDDBIMPuTKb"
   },
   "outputs": [],
   "source": [
    "import keras\n",
    "from keras.datasets import mnist"
   ]
  },
  {
   "cell_type": "code",
   "execution_count": null,
   "metadata": {
    "id": "Y5hHUXI1wZ4L"
   },
   "outputs": [],
   "source": [
    "import pylab as pl\n",
    "import numpy as np"
   ]
  },
  {
   "cell_type": "code",
   "execution_count": null,
   "metadata": {
    "id": "hOomczNp1KVi"
   },
   "outputs": [],
   "source": [
    "from keras.models import Sequential\n",
    "from keras.layers import Dense\n",
    "from tensorflow import keras\n",
    "from keras import optimizers\n",
    "from keras.callbacks import EarlyStopping\n",
    "import tensorflow as tf"
   ]
  },
  {
   "cell_type": "code",
   "execution_count": null,
   "metadata": {
    "id": "kcYXoSmWuc1n"
   },
   "outputs": [],
   "source": [
    "#runtime to GPU"
   ]
  },
  {
   "cell_type": "code",
   "execution_count": null,
   "metadata": {
    "id": "wQRKSMoxuf3h"
   },
   "outputs": [],
   "source": [
    "(x_train, y_train), (x_test, y_test) = mnist.load_data()"
   ]
  },
  {
   "cell_type": "markdown",
   "metadata": {
    "id": "Q6VPMJQcvL9b"
   },
   "source": [
    "###From tensorflow docs on mnist.load_data() :\n",
    "---\n",
    "x_train: uint8 NumPy array of grayscale image data with shapes (60000, 28, 28), containing the training data. Pixel values range from 0 to 255.\n",
    "\n",
    "y_train: uint8 NumPy array of digit labels (integers in range 0-9) with shape (60000,) for the training data.\n",
    "\n",
    "x_test: uint8 NumPy array of grayscale image data with shapes (10000, 28, 28), containing the test data. Pixel values range from 0 to 255.\n",
    "\n",
    "y_test: uint8 NumPy array of digit labels (integers in range 0-9) with shape (10000,) for the test data"
   ]
  },
  {
   "cell_type": "code",
   "execution_count": null,
   "metadata": {
    "id": "MyMEASz8vrHN"
   },
   "outputs": [],
   "source": [
    "# x_train, x_test are the pixel data: 60000 (train)images, 10000 (test)images that are 28x28 pixels each with values 0 to 255\n",
    "# y_train, y_test are the labels for the 60000 (train)images, 10000 (test)images: integer labels 0 to 9"
   ]
  },
  {
   "cell_type": "code",
   "execution_count": null,
   "metadata": {
    "colab": {
     "base_uri": "https://localhost:8080/"
    },
    "id": "eTweCORozGTh",
    "outputId": "7bfd2002-b802-468e-b22e-f800a7cb801c"
   },
   "outputs": [
    {
     "data": {
      "text/plain": [
       "(60000, 28, 28)"
      ]
     },
     "execution_count": 7,
     "metadata": {},
     "output_type": "execute_result"
    }
   ],
   "source": [
    "x_train.shape"
   ]
  },
  {
   "cell_type": "code",
   "execution_count": null,
   "metadata": {
    "colab": {
     "base_uri": "https://localhost:8080/"
    },
    "id": "wnHitEbg0JkK",
    "outputId": "17dbb766-4d5e-4603-c963-694dd07177ff"
   },
   "outputs": [
    {
     "data": {
      "text/plain": [
       "(10000, 28, 28)"
      ]
     },
     "execution_count": 8,
     "metadata": {},
     "output_type": "execute_result"
    }
   ],
   "source": [
    "x_test.shape"
   ]
  },
  {
   "cell_type": "code",
   "execution_count": null,
   "metadata": {
    "colab": {
     "base_uri": "https://localhost:8080/"
    },
    "id": "X8W7bEZcy7AH",
    "outputId": "0c58c04a-f6c5-4376-8fe0-b09bd41a30e0"
   },
   "outputs": [
    {
     "name": "stdout",
     "output_type": "stream",
     "text": [
      "Training data shape: 60000 28 28\n",
      "Test data shape: 10000 28 28\n"
     ]
    }
   ],
   "source": [
    "nimg, img_row, img_col = x_train.shape\n",
    "nimgT = x_test.shape[0]\n",
    "print(\"Training data shape:\",nimg, img_row ,img_col)\n",
    "print(\"Test data shape:\",nimgT, img_row ,img_col)"
   ]
  },
  {
   "cell_type": "code",
   "execution_count": null,
   "metadata": {
    "id": "Y-PqKNkFwGXP"
   },
   "outputs": [],
   "source": [
    "#normalize/scale data to [0,1]\n",
    "x_train = (x_train.astype(float) / 255)\n",
    "x_test = (x_test.astype(float) / 255)"
   ]
  },
  {
   "cell_type": "code",
   "execution_count": null,
   "metadata": {
    "id": "RZIG3oenzd_3"
   },
   "outputs": [],
   "source": [
    "#reshape data to be nimg(train) or nimgT(test), total pixels = img_row * img col\n",
    "x_train = x_train.reshape(nimg, img_row*img_col);\n",
    "x_test = x_test.reshape(nimgT, img_row*img_col);"
   ]
  },
  {
   "cell_type": "code",
   "execution_count": null,
   "metadata": {
    "colab": {
     "base_uri": "https://localhost:8080/"
    },
    "id": "Y5wMaH92KRgq",
    "outputId": "9a0c846c-c59e-4151-95e2-6f60fcd216df"
   },
   "outputs": [
    {
     "name": "stdout",
     "output_type": "stream",
     "text": [
      "(60000, 784)\n",
      "(10000, 784)\n"
     ]
    }
   ],
   "source": [
    "print(x_train.shape)\n",
    "print(x_test.shape)"
   ]
  },
  {
   "cell_type": "markdown",
   "metadata": {
    "id": "kzdaWG9A2PGi"
   },
   "source": [
    "#Build the model"
   ]
  },
  {
   "cell_type": "markdown",
   "metadata": {
    "id": "E04YeBkv3fJw"
   },
   "source": [
    "### From keras docs on dense layer: \n",
    "---\n",
    "Dense implements the operation: output = activation(dot(input, kernel) + bias) where activation is the element-wise activation function passed as the activation argument, kernel is a weights matrix created by the layer, and bias is a bias vector created by the layer (only applicable if use_bias is True). These are all attributes of Dense."
   ]
  },
  {
   "cell_type": "code",
   "execution_count": null,
   "metadata": {
    "id": "8PFZjK7A1FEn"
   },
   "outputs": [],
   "source": [
    "model_digitRecog = Sequential()"
   ]
  },
  {
   "cell_type": "code",
   "execution_count": null,
   "metadata": {
    "id": "Kkhd2_F-2OWp"
   },
   "outputs": [],
   "source": [
    "model_digitRecog.add(Dense(units=10, input_dim=img_row*img_col ,activation=\"softmax\"))\n",
    "#units = output shape = 10 since we want integer value 0 to 9\n",
    "#input_dim = 28*28 pixel data\n",
    "# https://stats.stackexchange.com/a/410112 -> softmax makes values of probability\n",
    "#                                            of all classes (0 to 9) sum to 1 \n",
    "# -> linked article: https://glassboxmedicine.com/2019/05/26/classification-sigmoid-vs-softmax/                                                                                      "
   ]
  },
  {
   "cell_type": "code",
   "execution_count": null,
   "metadata": {
    "id": "AcwHNbZLMLV3"
   },
   "outputs": [],
   "source": [
    "patience = EarlyStopping(monitor='val_loss', patience=5, min_delta=0.0001)"
   ]
  },
  {
   "cell_type": "code",
   "execution_count": null,
   "metadata": {
    "colab": {
     "base_uri": "https://localhost:8080/"
    },
    "id": "y8knjelk7Lb1",
    "outputId": "e168073b-fa2e-4931-af6f-a9d44045cd1e"
   },
   "outputs": [
    {
     "name": "stdout",
     "output_type": "stream",
     "text": [
      "Epoch 1/30\n",
      "600/600 [==============================] - 3s 4ms/step - loss: 0.6250 - sparse_categorical_accuracy: 0.8418 - val_loss: 0.3623 - val_sparse_categorical_accuracy: 0.9054\n",
      "Epoch 2/30\n",
      "600/600 [==============================] - 2s 3ms/step - loss: 0.3465 - sparse_categorical_accuracy: 0.9058 - val_loss: 0.3087 - val_sparse_categorical_accuracy: 0.9162\n",
      "Epoch 3/30\n",
      "600/600 [==============================] - 2s 3ms/step - loss: 0.3094 - sparse_categorical_accuracy: 0.9144 - val_loss: 0.2892 - val_sparse_categorical_accuracy: 0.9196\n",
      "Epoch 4/30\n",
      "600/600 [==============================] - 2s 3ms/step - loss: 0.2921 - sparse_categorical_accuracy: 0.9188 - val_loss: 0.2797 - val_sparse_categorical_accuracy: 0.9225\n",
      "Epoch 5/30\n",
      "600/600 [==============================] - 2s 3ms/step - loss: 0.2815 - sparse_categorical_accuracy: 0.9209 - val_loss: 0.2742 - val_sparse_categorical_accuracy: 0.9241\n",
      "Epoch 6/30\n",
      "600/600 [==============================] - 2s 3ms/step - loss: 0.2744 - sparse_categorical_accuracy: 0.9240 - val_loss: 0.2708 - val_sparse_categorical_accuracy: 0.9251\n",
      "Epoch 7/30\n",
      "600/600 [==============================] - 2s 3ms/step - loss: 0.2693 - sparse_categorical_accuracy: 0.9249 - val_loss: 0.2717 - val_sparse_categorical_accuracy: 0.9253\n",
      "Epoch 8/30\n",
      "600/600 [==============================] - 2s 3ms/step - loss: 0.2652 - sparse_categorical_accuracy: 0.9265 - val_loss: 0.2664 - val_sparse_categorical_accuracy: 0.9260\n",
      "Epoch 9/30\n",
      "600/600 [==============================] - 2s 3ms/step - loss: 0.2620 - sparse_categorical_accuracy: 0.9275 - val_loss: 0.2644 - val_sparse_categorical_accuracy: 0.9265\n",
      "Epoch 10/30\n",
      "600/600 [==============================] - 2s 3ms/step - loss: 0.2590 - sparse_categorical_accuracy: 0.9279 - val_loss: 0.2646 - val_sparse_categorical_accuracy: 0.9260\n",
      "Epoch 11/30\n",
      "600/600 [==============================] - 2s 3ms/step - loss: 0.2567 - sparse_categorical_accuracy: 0.9290 - val_loss: 0.2646 - val_sparse_categorical_accuracy: 0.9266\n",
      "Epoch 12/30\n",
      "600/600 [==============================] - 2s 3ms/step - loss: 0.2548 - sparse_categorical_accuracy: 0.9301 - val_loss: 0.2658 - val_sparse_categorical_accuracy: 0.9254\n",
      "Epoch 13/30\n",
      "600/600 [==============================] - 2s 3ms/step - loss: 0.2530 - sparse_categorical_accuracy: 0.9302 - val_loss: 0.2631 - val_sparse_categorical_accuracy: 0.9264\n",
      "Epoch 14/30\n",
      "600/600 [==============================] - 2s 3ms/step - loss: 0.2511 - sparse_categorical_accuracy: 0.9301 - val_loss: 0.2615 - val_sparse_categorical_accuracy: 0.9275\n",
      "Epoch 15/30\n",
      "600/600 [==============================] - 2s 3ms/step - loss: 0.2495 - sparse_categorical_accuracy: 0.9305 - val_loss: 0.2656 - val_sparse_categorical_accuracy: 0.9272\n",
      "Epoch 16/30\n",
      "600/600 [==============================] - 2s 3ms/step - loss: 0.2485 - sparse_categorical_accuracy: 0.9311 - val_loss: 0.2617 - val_sparse_categorical_accuracy: 0.9283\n",
      "Epoch 17/30\n",
      "600/600 [==============================] - 2s 3ms/step - loss: 0.2476 - sparse_categorical_accuracy: 0.9316 - val_loss: 0.2638 - val_sparse_categorical_accuracy: 0.9267\n",
      "Epoch 18/30\n",
      "600/600 [==============================] - 2s 3ms/step - loss: 0.2461 - sparse_categorical_accuracy: 0.9317 - val_loss: 0.2627 - val_sparse_categorical_accuracy: 0.9276\n",
      "Epoch 19/30\n",
      "600/600 [==============================] - 2s 3ms/step - loss: 0.2452 - sparse_categorical_accuracy: 0.9325 - val_loss: 0.2623 - val_sparse_categorical_accuracy: 0.9275\n"
     ]
    }
   ],
   "source": [
    "opt = keras.optimizers.Adam(learning_rate=0.001)\n",
    "model_digitRecog.compile(loss=\"sparse_categorical_crossentropy\", optimizer = opt,metrics=[tf.keras.metrics.SparseCategoricalAccuracy()])\n",
    "# https://stackoverflow.com/a/58566065\n",
    "# https://keras.io/api/metrics/accuracy_metrics/\n",
    "historyRecog = model_digitRecog.fit(x_train, y_train,\n",
    "                                    validation_data=(x_test, y_test),\n",
    "                                    epochs=30, batch_size=100, verbose=1, callbacks=[patience])\n"
   ]
  },
  {
   "cell_type": "code",
   "execution_count": null,
   "metadata": {
    "colab": {
     "base_uri": "https://localhost:8080/"
    },
    "id": "jvkjBX5qQfum",
    "outputId": "606d4f58-6a06-4ec3-bef6-fe5d1ea7881b"
   },
   "outputs": [
    {
     "name": "stdout",
     "output_type": "stream",
     "text": [
      "Model: \"sequential\"\n",
      "_________________________________________________________________\n",
      " Layer (type)                Output Shape              Param #   \n",
      "=================================================================\n",
      " dense (Dense)               (None, 10)                7850      \n",
      "                                                                 \n",
      "=================================================================\n",
      "Total params: 7,850\n",
      "Trainable params: 7,850\n",
      "Non-trainable params: 0\n",
      "_________________________________________________________________\n",
      "None\n"
     ]
    }
   ],
   "source": [
    "print(model_digitRecog.summary())"
   ]
  },
  {
   "cell_type": "code",
   "execution_count": null,
   "metadata": {
    "colab": {
     "base_uri": "https://localhost:8080/",
     "height": 279
    },
    "id": "9e2_MsfqMTyJ",
    "outputId": "76c178c7-bf5f-4af8-c468-4b9edbd495ab"
   },
   "outputs": [
    {
     "data": {
      "image/png": "[encoded data removed]",
      "text/plain": [
       "<Figure size 432x288 with 1 Axes>"
      ]
     },
     "metadata": {
      "needs_background": "light"
     },
     "output_type": "display_data"
    }
   ],
   "source": [
    "pl.plot(historyRecog.history['loss'], label=\"training\")\n",
    "pl.plot(historyRecog.history['val_loss'], label=\"validation\")\n",
    "pl.ylabel('loss')\n",
    "pl.xlabel('iteration')\n",
    "pl.legend();"
   ]
  },
  {
   "cell_type": "markdown",
   "metadata": {
    "id": "81005Kkoa5wV"
   },
   "source": [
    "So if I am interpreting this right, the optimal amount of epochs for this model is from 5 to around 8 I suppose."
   ]
  },
  {
   "cell_type": "code",
   "execution_count": null,
   "metadata": {
    "id": "SSI_0JvxOfgC"
   },
   "outputs": [],
   "source": [
    "outputRecog = model_digitRecog.predict(x_test)"
   ]
  },
  {
   "cell_type": "code",
   "execution_count": null,
   "metadata": {
    "colab": {
     "base_uri": "https://localhost:8080/"
    },
    "id": "jvUxDONKoE6l",
    "outputId": "c741e6f6-bc09-4566-cecc-299ddb803621"
   },
   "outputs": [
    {
     "data": {
      "text/plain": [
       "array([[6.1907093e-07, 1.4975423e-12, 1.9071128e-06, ..., 9.9593794e-01,\n",
       "        1.0251127e-05, 2.7440960e-04],\n",
       "       [1.3870402e-04, 1.5601726e-06, 9.9269217e-01, ..., 1.5270640e-18,\n",
       "        3.3957509e-05, 2.8114703e-15],\n",
       "       [1.4614591e-06, 9.7537154e-01, 1.5647171e-02, ..., 6.2539993e-04,\n",
       "        3.3710217e-03, 2.4492230e-04],\n",
       "       ...,\n",
       "       [7.6290991e-09, 2.4757194e-09, 4.0868645e-06, ..., 2.0381631e-03,\n",
       "        7.1885143e-03, 2.3449475e-02],\n",
       "       [5.3211913e-08, 6.7322638e-08, 7.6361800e-08, ..., 8.9049642e-08,\n",
       "        6.5242136e-03, 6.7604944e-08],\n",
       "       [2.0871778e-07, 5.0287516e-15, 3.9721992e-05, ..., 1.5673139e-13,\n",
       "        1.5673715e-08, 7.4507596e-12]], dtype=float32)"
      ]
     },
     "execution_count": 20,
     "metadata": {},
     "output_type": "execute_result"
    }
   ],
   "source": [
    "outputRecog"
   ]
  },
  {
   "cell_type": "code",
   "execution_count": null,
   "metadata": {
    "colab": {
     "base_uri": "https://localhost:8080/",
     "height": 248
    },
    "id": "TCBppjiKiUp6",
    "outputId": "8bb24365-5740-4e8d-bf7f-7b3fbf5d6f42"
   },
   "outputs": [
    {
     "data": {
      "image/png": "[encoded data removed]",
      "text/plain": [
       "<Figure size 432x288 with 1 Axes>"
      ]
     },
     "metadata": {
      "needs_background": "light"
     },
     "output_type": "display_data"
    }
   ],
   "source": [
    "pl.imshow(x_test[0].reshape((28,28)) , cmap=\"bone\")\n",
    "pl.axis('off');"
   ]
  },
  {
   "cell_type": "code",
   "execution_count": null,
   "metadata": {
    "colab": {
     "base_uri": "https://localhost:8080/"
    },
    "id": "XctqpNwxiMoW",
    "outputId": "a3f88dab-6df3-4965-9d80-d0ed5eacc1cf"
   },
   "outputs": [
    {
     "data": {
      "text/plain": [
       "array([6.1907093e-07, 1.4975423e-12, 1.9071128e-06, 3.7548451e-03,\n",
       "       2.0122957e-07, 1.9798534e-05, 2.9797883e-11, 9.9593794e-01,\n",
       "       1.0251127e-05, 2.7440960e-04], dtype=float32)"
      ]
     },
     "execution_count": 22,
     "metadata": {},
     "output_type": "execute_result"
    }
   ],
   "source": [
    "outputRecog[0]"
   ]
  },
  {
   "cell_type": "code",
   "execution_count": null,
   "metadata": {
    "id": "piocHBLTidOz"
   },
   "outputs": [],
   "source": [
    "# 10 Output nodes as defined from the dense layer, each for the integers 0 to 9\n",
    "# softmax makes the sum of values (probability) of the nodes that represent integers (0 to 9) = 1\n",
    "# then the index with the largest value (probability) is the node that represents the best predicted value\n",
    "# np.argmax()"
   ]
  },
  {
   "cell_type": "code",
   "execution_count": null,
   "metadata": {
    "colab": {
     "base_uri": "https://localhost:8080/"
    },
    "id": "HTV3J2_sjefW",
    "outputId": "7cfda676-5710-47c3-d580-d3281febfea0"
   },
   "outputs": [
    {
     "data": {
      "text/plain": [
       "7"
      ]
     },
     "execution_count": 24,
     "metadata": {},
     "output_type": "execute_result"
    }
   ],
   "source": [
    "np.argmax(outputRecog[0])"
   ]
  },
  {
   "cell_type": "code",
   "execution_count": null,
   "metadata": {
    "id": "3Jn3b-gKjh63"
   },
   "outputs": [],
   "source": [
    "# for first image, 7 is correctly predicted"
   ]
  },
  {
   "cell_type": "code",
   "execution_count": null,
   "metadata": {
    "id": "5AaJ7Ottc-EF"
   },
   "outputs": [],
   "source": [
    "def checkPrediction(i, testdata, predict, initialshape=(28,28)):\n",
    "    \n",
    "    for i in range(i):\n",
    "        fig = pl.figure(figsize=(2,2)) \n",
    "        ax = fig.add_subplot(111)\n",
    "        ax.imshow(testdata[i].reshape(initialshape) , cmap=\"bone\")\n",
    "        pl.title(\"Prediction: \"+str(np.argmax(predict[i])));\n",
    "        ax.axis('off') #https://stackoverflow.com/a/25864515\n",
    "        "
   ]
  },
  {
   "cell_type": "code",
   "execution_count": null,
   "metadata": {
    "id": "Za8SpVi1hKDc"
   },
   "outputs": [],
   "source": [
    "def checkNprediction(n, testdata, predict, initialshape=(28,28)):\n",
    "    pl.imshow(testdata[n].reshape(initialshape) , cmap=\"bone\")\n",
    "    pl.title(\"Prediction: \"+str(np.argmax(predict[n])));\n",
    "    pl.axis('off') #https://stackoverflow.com/a/25864515"
   ]
  },
  {
   "cell_type": "code",
   "execution_count": null,
   "metadata": {
    "colab": {
     "base_uri": "https://localhost:8080/",
     "height": 264
    },
    "id": "qXClR4Cmha_s",
    "outputId": "add1a718-46d7-41f7-8b65-f9fd66b8cdc7"
   },
   "outputs": [
    {
     "data": {
      "image/png": "[encoded data removed]",
      "text/plain": [
       "<Figure size 432x288 with 1 Axes>"
      ]
     },
     "metadata": {
      "needs_background": "light"
     },
     "output_type": "display_data"
    }
   ],
   "source": [
    "checkNprediction(2305, x_test, outputRecog)"
   ]
  },
  {
   "cell_type": "markdown",
   "metadata": {
    "id": "MXPCx6iAbHP6"
   },
   "source": [
    "Image is of image 2305.Title has the index for the node with the highest probabilities of nodes 0 to 9, in this case 3 for this image. "
   ]
  },
  {
   "cell_type": "code",
   "execution_count": null,
   "metadata": {
    "colab": {
     "base_uri": "https://localhost:8080/",
     "height": 264
    },
    "id": "iMFXPhfCoSTV",
    "outputId": "c4186f13-c3fd-407a-dc0e-4e5025055887"
   },
   "outputs": [
    {
     "data": {
      "image/png": "[encoded data removed]",
      "text/plain": [
       "<Figure size 432x288 with 1 Axes>"
      ]
     },
     "metadata": {
      "needs_background": "light"
     },
     "output_type": "display_data"
    }
   ],
   "source": [
    "checkNprediction(2332, x_test, outputRecog)"
   ]
  },
  {
   "cell_type": "markdown",
   "metadata": {
    "id": "_9X6KeZTbdmO"
   },
   "source": [
    "Image is of image 2332.Title has the index for the node with the highest probabilities of nodes 0 to 9, in this case 7 for this image. "
   ]
  },
  {
   "cell_type": "code",
   "execution_count": null,
   "metadata": {
    "colab": {
     "base_uri": "https://localhost:8080/",
     "height": 1000
    },
    "id": "unvSUW4ddlzs",
    "outputId": "a366b02f-7406-463f-9997-5091fc0cdf15"
   },
   "outputs": [
    {
     "data": {
      "image/png": "[encoded data removed]",
      "text/plain": [
       "<Figure size 144x144 with 1 Axes>"
      ]
     },
     "metadata": {
      "needs_background": "light"
     },
     "output_type": "display_data"
    },
    {
     "data": {
      "image/png": "[encoded data removed]",
      "text/plain": [
       "<Figure size 144x144 with 1 Axes>"
      ]
     },
     "metadata": {
      "needs_background": "light"
     },
     "output_type": "display_data"
    },
    {
     "data": {
      "image/png": "[encoded data removed]",
      "text/plain": [
       "<Figure size 144x144 with 1 Axes>"
      ]
     },
     "metadata": {
      "needs_background": "light"
     },
     "output_type": "display_data"
    },
    {
     "data": {
      "image/png": "[encoded data removed]",
      "text/plain": [
       "<Figure size 144x144 with 1 Axes>"
      ]
     },
     "metadata": {
      "needs_background": "light"
     },
     "output_type": "display_data"
    },
    {
     "data": {
      "image/png": "[encoded data removed]",
      "text/plain": [
       "<Figure size 144x144 with 1 Axes>"
      ]
     },
     "metadata": {
      "needs_background": "light"
     },
     "output_type": "display_data"
    },
    {
     "data": {
      "image/png": "[encoded data removed]",
      "text/plain": [
       "<Figure size 144x144 with 1 Axes>"
      ]
     },
     "metadata": {
      "needs_background": "light"
     },
     "output_type": "display_data"
    },
    {
     "data": {
      "image/png": "[encoded data removed]",
      "text/plain": [
       "<Figure size 144x144 with 1 Axes>"
      ]
     },
     "metadata": {
      "needs_background": "light"
     },
     "output_type": "display_data"
    },
    {
     "data": {
      "image/png": "[encoded data removed]",
      "text/plain": [
       "<Figure size 144x144 with 1 Axes>"
      ]
     },
     "metadata": {
      "needs_background": "light"
     },
     "output_type": "display_data"
    },
    {
     "data": {
      "image/png": "[encoded data removed]",
      "text/plain": [
       "<Figure size 144x144 with 1 Axes>"
      ]
     },
     "metadata": {
      "needs_background": "light"
     },
     "output_type": "display_data"
    },
    {
     "data": {
      "image/png": "[encoded data removed]",
      "text/plain": [
       "<Figure size 144x144 with 1 Axes>"
      ]
     },
     "metadata": {
      "needs_background": "light"
     },
     "output_type": "display_data"
    }
   ],
   "source": [
    "checkPrediction(10, x_test, outputRecog)"
   ]
  },
  {
   "cell_type": "markdown",
   "metadata": {
    "id": "vRNQRpaJbgYK"
   },
   "source": [
    "More images of numbers and their predictions in the title."
   ]
  },
  {
   "cell_type": "markdown",
   "metadata": {
    "id": "vvYlpqa2h1nm"
   },
   "source": [
    "---"
   ]
  },
  {
   "cell_type": "markdown",
   "metadata": {},
   "source": [
    "<h1 style=\"color:red\"> Great !</h1>\n"
   ]
  }
 ],
 "metadata": {
  "accelerator": "GPU",
  "colab": {
   "authorship_tag": "ABX9TyMSnh2iBVLbeP61y6L8/gjS",
   "include_colab_link": true,
   "name": "sidpatel_hw10_digit_recognition_autoencoder.ipynb",
   "provenance": []
  },
  "kernelspec": {
   "display_name": "Python 3",
   "language": "python",
   "name": "python3"
  },
  "language_info": {
   "codemirror_mode": {
    "name": "ipython",
    "version": 3
   },
   "file_extension": ".py",
   "mimetype": "text/x-python",
   "name": "python",
   "nbconvert_exporter": "python",
   "pygments_lexer": "ipython3",
   "version": "3.6.8"
  }
 },
 "nbformat": 4,
 "nbformat_minor": 1
}
