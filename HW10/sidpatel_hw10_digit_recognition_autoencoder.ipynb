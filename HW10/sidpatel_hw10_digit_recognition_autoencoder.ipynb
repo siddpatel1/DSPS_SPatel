{
  "nbformat": 4,
  "nbformat_minor": 0,
  "metadata": {
    "colab": {
      "name": "sidpatel_hw10_digit_recognition_autoencoder.ipynb",
      "provenance": [],
      "authorship_tag": "ABX9TyMC1L0gcqoqkdsF/O/Ga/Qj",
      "include_colab_link": true
    },
    "kernelspec": {
      "name": "python3",
      "display_name": "Python 3"
    },
    "language_info": {
      "name": "python"
    },
    "accelerator": "GPU"
  },
  "cells": [
    {
      "cell_type": "markdown",
      "metadata": {
        "id": "view-in-github",
        "colab_type": "text"
      },
      "source": [
        "<a href=\"https://colab.research.google.com/github/siddpatel1/DSPS_SPatel/blob/main/HW10/sidpatel_hw10_digit_recognition_autoencoder.ipynb\" target=\"_parent\"><img src=\"https://colab.research.google.com/assets/colab-badge.svg\" alt=\"Open In Colab\"/></a>"
      ]
    },
    {
      "cell_type": "code",
      "metadata": {
        "id": "WEDDBIMPuTKb"
      },
      "source": [
        "import keras\n",
        "from keras.datasets import mnist"
      ],
      "execution_count": 1,
      "outputs": []
    },
    {
      "cell_type": "code",
      "metadata": {
        "id": "Y5hHUXI1wZ4L"
      },
      "source": [
        "import pylab as pl"
      ],
      "execution_count": 2,
      "outputs": []
    },
    {
      "cell_type": "code",
      "metadata": {
        "id": "hOomczNp1KVi"
      },
      "source": [
        "from keras.models import Sequential\n",
        "from keras.layers import Dense"
      ],
      "execution_count": 17,
      "outputs": []
    },
    {
      "cell_type": "code",
      "metadata": {
        "id": "kcYXoSmWuc1n"
      },
      "source": [
        "#runtime to GPU"
      ],
      "execution_count": 3,
      "outputs": []
    },
    {
      "cell_type": "code",
      "metadata": {
        "id": "wQRKSMoxuf3h"
      },
      "source": [
        "(x_train, y_train), (x_test, y_test) = mnist.load_data()"
      ],
      "execution_count": 4,
      "outputs": []
    },
    {
      "cell_type": "markdown",
      "metadata": {
        "id": "Q6VPMJQcvL9b"
      },
      "source": [
        "###From tensorflow docs on mnist.load_data() :\n",
        "---\n",
        "x_train: uint8 NumPy array of grayscale image data with shapes (60000, 28, 28), containing the training data. Pixel values range from 0 to 255.\n",
        "\n",
        "y_train: uint8 NumPy array of digit labels (integers in range 0-9) with shape (60000,) for the training data.\n",
        "\n",
        "x_test: uint8 NumPy array of grayscale image data with shapes (10000, 28, 28), containing the test data. Pixel values range from 0 to 255.\n",
        "\n",
        "y_test: uint8 NumPy array of digit labels (integers in range 0-9) with shape (10000,) for the test data"
      ]
    },
    {
      "cell_type": "code",
      "metadata": {
        "id": "MyMEASz8vrHN"
      },
      "source": [
        "# x_train, x_test are the pixel data: 60000 (train)images, 10000 (test)images that are 28x28 pixels each with values 0 to 255\n",
        "# y_train, y_test are the labels for the 60000 (train)images, 10000 (test)images: integer labels 0 to 9"
      ],
      "execution_count": 12,
      "outputs": []
    },
    {
      "cell_type": "code",
      "metadata": {
        "colab": {
          "base_uri": "https://localhost:8080/"
        },
        "id": "eTweCORozGTh",
        "outputId": "6ab11ad8-f38c-411f-d08a-d2e917a4c90f"
      },
      "source": [
        "x_train.shape"
      ],
      "execution_count": 13,
      "outputs": [
        {
          "output_type": "execute_result",
          "data": {
            "text/plain": [
              "(60000, 28, 28)"
            ]
          },
          "metadata": {},
          "execution_count": 13
        }
      ]
    },
    {
      "cell_type": "code",
      "metadata": {
        "colab": {
          "base_uri": "https://localhost:8080/"
        },
        "id": "wnHitEbg0JkK",
        "outputId": "348bc239-a000-4614-a94c-93be48e7df57"
      },
      "source": [
        "x_test.shape"
      ],
      "execution_count": 14,
      "outputs": [
        {
          "output_type": "execute_result",
          "data": {
            "text/plain": [
              "(10000, 28, 28)"
            ]
          },
          "metadata": {},
          "execution_count": 14
        }
      ]
    },
    {
      "cell_type": "code",
      "metadata": {
        "colab": {
          "base_uri": "https://localhost:8080/"
        },
        "id": "X8W7bEZcy7AH",
        "outputId": "fda9dac2-dd92-483a-b38d-ce81c093aa23"
      },
      "source": [
        "nimg, img_row, img_col = x_train.shape\n",
        "nimgT = x_test.shape[0]\n",
        "print(\"Training data shape:\",nimg, img_row ,img_col)\n",
        "print(\"Test data shape:\",nimgT, img_row ,img_col)"
      ],
      "execution_count": 9,
      "outputs": [
        {
          "output_type": "stream",
          "name": "stdout",
          "text": [
            "Training data shape: 60000 28 28\n",
            "Test data shape: 10000 28 28\n"
          ]
        }
      ]
    },
    {
      "cell_type": "code",
      "metadata": {
        "id": "Y-PqKNkFwGXP"
      },
      "source": [
        "#normalize/scale data to [0,1]\n",
        "x_train = (x_train.astype(float) / 255)\n",
        "x_test = (x_test.astype(float) / 255)"
      ],
      "execution_count": 10,
      "outputs": []
    },
    {
      "cell_type": "code",
      "metadata": {
        "id": "RZIG3oenzd_3"
      },
      "source": [
        "#reshape data to be nimg(train) or nimgT(test), total pixels = img_row * img col\n",
        "x_train.reshape(nimg, img_row*img_col);\n",
        "x_test.reshape(nimgT, img_row*img_col);"
      ],
      "execution_count": 18,
      "outputs": []
    },
    {
      "cell_type": "markdown",
      "metadata": {
        "id": "kzdaWG9A2PGi"
      },
      "source": [
        "#Build the model 🔥"
      ]
    },
    {
      "cell_type": "markdown",
      "metadata": {
        "id": "E04YeBkv3fJw"
      },
      "source": [
        "### From keras docs on dense layer: \n",
        "---\n",
        "Dense implements the operation: output = activation(dot(input, kernel) + bias) where activation is the element-wise activation function passed as the activation argument, kernel is a weights matrix created by the layer, and bias is a bias vector created by the layer (only applicable if use_bias is True). These are all attributes of Dense."
      ]
    },
    {
      "cell_type": "code",
      "metadata": {
        "id": "8PFZjK7A1FEn"
      },
      "source": [
        "model_digitRecog = Sequential()"
      ],
      "execution_count": 19,
      "outputs": []
    },
    {
      "cell_type": "code",
      "metadata": {
        "id": "Kkhd2_F-2OWp"
      },
      "source": [
        "model_digitRecog.add(Dense(128, activation=\"relu\", input_dim=img_col*img_row))\n",
        "model_digitRecog.add(Dense(64, activation=\"relu\"))\n",
        "model_digitRecog.add(Dense(128, activation=\"relu\"))\n",
        "model_digitRecog.add(Dense(img_col*img_row, activation=\"sigmoid\"))\n",
        "\n"
      ],
      "execution_count": 21,
      "outputs": []
    },
    {
      "cell_type": "code",
      "metadata": {
        "id": "y8knjelk7Lb1"
      },
      "source": [
        ""
      ],
      "execution_count": null,
      "outputs": []
    }
  ]
}