{
  "nbformat": 4,
  "nbformat_minor": 0,
  "metadata": {
    "colab": {
      "name": "SidPatel MLNPS_Ztestpandas.ipynb",
      "provenance": [],
      "include_colab_link": true
    },
    "kernelspec": {
      "name": "python3",
      "display_name": "Python 3"
    },
    "language_info": {
      "name": "python"
    }
  },
  "cells": [
    {
      "cell_type": "markdown",
      "metadata": {
        "id": "view-in-github",
        "colab_type": "text"
      },
      "source": [
        "<a href=\"https://colab.research.google.com/github/siddpatel1/DSPS_SPatel/blob/main/lab/SidPatel_MLNPS_Ztestpandas.ipynb\" target=\"_parent\"><img src=\"https://colab.research.google.com/assets/colab-badge.svg\" alt=\"Open In Colab\"/></a>"
      ]
    },
    {
      "cell_type": "code",
      "metadata": {
        "colab": {
          "base_uri": "https://localhost:8080/"
        },
        "id": "zYeYaORLJz2M",
        "outputId": "f25ad477-97ea-4b34-9a35-1ae6e5f1ec09"
      },
      "source": [
        "import pandas as pd\n",
        "%pylab inline\n"
      ],
      "execution_count": 74,
      "outputs": [
        {
          "output_type": "stream",
          "name": "stdout",
          "text": [
            "Populating the interactive namespace from numpy and matplotlib\n"
          ]
        }
      ]
    },
    {
      "cell_type": "markdown",
      "metadata": {
        "id": "SQd2HLsUJ5N-"
      },
      "source": [
        "I extracted precipitations records for Willmington from 2000/01/01 through today. \n",
        "The goal is to extract from these data the daily precipitation starting on 2018/01/01 and assess if these data are different from a population with mean $\\mu = 0.14$ standard deviation $\\sigma= 0.38$. \n",
        "\n",
        "Set a p-value at $2\\sigma$:  $p=0.05$"
      ]
    },
    {
      "cell_type": "code",
      "metadata": {
        "id": "Q0hV8dDFJ6BW"
      },
      "source": [
        "rain = pd.read_csv(\"https://raw.githubusercontent.com/fedhere/DSPS/master/labs/1865331.csv\")"
      ],
      "execution_count": 75,
      "outputs": []
    },
    {
      "cell_type": "markdown",
      "metadata": {
        "id": "wLnSJ7lZJ7oB"
      },
      "source": [
        "\n",
        "The $Z$ statistics is : $Z = \\frac{\\bar{X} - \\mu }{s}$ and $s = \\sigma / \\sqrt(N)$ (you should know what all those symbols mean)\n",
        "\n",
        "1. Extract from the dataframe above the columns \"DATE\" and \"PRCP\" (precipitation)\n",
        "\n",
        "2. Convert the dataframe DATE from ```string``` to ```datetime``` type\n",
        " using pd.datetime() \n",
        "    \n",
        "3. Select the data rows with date later than 2018/01/01. \n",
        "    If your data type conversion worked well you should be able to set the condition as ```rain[<newcolumnname>]> pd.to_datetime(\"2018/01/01\")```\n",
        "    use the technique called \"broadcasting\" to select the rows: \n",
        "    \n",
        "    ```rain[ rain[<newcolumnname>]> pd.to_datetime(\"2018/01/01\")]``` which you can save as a new dataframe\n",
        "    \n",
        "4. Calculate the mean of the sample you created $\\bar{X}$ and plug it in  the numerator of the $Z$ statistics: $\\bar{X}- \\mu$\n",
        "\n",
        "5. Calculate the size of the sample and plug it in the formula. Now you have $Z$\n",
        "\n",
        "6. Knowing the distribution of $Z\\sim N(\\mu=0, \\sigma=1)$ and with a confidence $p=0.05$, did you find that the time period 2018/01/01---today has a statistically significant different amount of rain?  \n",
        "    "
      ]
    },
    {
      "cell_type": "code",
      "metadata": {
        "id": "l1lRuA72J90k"
      },
      "source": [
        "rain2 = rain[[\"DATE\",\"PRCP\"]]"
      ],
      "execution_count": 76,
      "outputs": []
    },
    {
      "cell_type": "code",
      "metadata": {
        "id": "Fwd1Fljiqz2R",
        "colab": {
          "base_uri": "https://localhost:8080/"
        },
        "outputId": "f85987cf-5817-48b8-a166-70d89d5d2966"
      },
      "source": [
        "rain2[\"DATE\"] = pd.to_datetime(rain[\"DATE\"])"
      ],
      "execution_count": 77,
      "outputs": [
        {
          "output_type": "stream",
          "name": "stderr",
          "text": [
            "/usr/local/lib/python3.7/dist-packages/ipykernel_launcher.py:1: SettingWithCopyWarning: \n",
            "A value is trying to be set on a copy of a slice from a DataFrame.\n",
            "Try using .loc[row_indexer,col_indexer] = value instead\n",
            "\n",
            "See the caveats in the documentation: https://pandas.pydata.org/pandas-docs/stable/user_guide/indexing.html#returning-a-view-versus-a-copy\n",
            "  \"\"\"Entry point for launching an IPython kernel.\n"
          ]
        }
      ]
    },
    {
      "cell_type": "code",
      "metadata": {
        "colab": {
          "base_uri": "https://localhost:8080/",
          "height": 204
        },
        "id": "kFBUPn9gsc_k",
        "outputId": "1068628b-87e5-48e8-8523-ec16fe87f3b9"
      },
      "source": [
        "rain.head()"
      ],
      "execution_count": 78,
      "outputs": [
        {
          "output_type": "execute_result",
          "data": {
            "text/html": [
              "<div>\n",
              "<style scoped>\n",
              "    .dataframe tbody tr th:only-of-type {\n",
              "        vertical-align: middle;\n",
              "    }\n",
              "\n",
              "    .dataframe tbody tr th {\n",
              "        vertical-align: top;\n",
              "    }\n",
              "\n",
              "    .dataframe thead th {\n",
              "        text-align: right;\n",
              "    }\n",
              "</style>\n",
              "<table border=\"1\" class=\"dataframe\">\n",
              "  <thead>\n",
              "    <tr style=\"text-align: right;\">\n",
              "      <th></th>\n",
              "      <th>STATION</th>\n",
              "      <th>NAME</th>\n",
              "      <th>DATE</th>\n",
              "      <th>PRCP</th>\n",
              "      <th>SNOW</th>\n",
              "      <th>SNWD</th>\n",
              "      <th>WESD</th>\n",
              "      <th>WESF</th>\n",
              "    </tr>\n",
              "  </thead>\n",
              "  <tbody>\n",
              "    <tr>\n",
              "      <th>0</th>\n",
              "      <td>US1DENC0010</td>\n",
              "      <td>NEWPORT 2.4 WNW, DE US</td>\n",
              "      <td>2010-01-01</td>\n",
              "      <td>0.28</td>\n",
              "      <td>NaN</td>\n",
              "      <td>0.0</td>\n",
              "      <td>NaN</td>\n",
              "      <td>NaN</td>\n",
              "    </tr>\n",
              "    <tr>\n",
              "      <th>1</th>\n",
              "      <td>US1DENC0010</td>\n",
              "      <td>NEWPORT 2.4 WNW, DE US</td>\n",
              "      <td>2010-01-02</td>\n",
              "      <td>0.00</td>\n",
              "      <td>0.0</td>\n",
              "      <td>NaN</td>\n",
              "      <td>NaN</td>\n",
              "      <td>NaN</td>\n",
              "    </tr>\n",
              "    <tr>\n",
              "      <th>2</th>\n",
              "      <td>US1DENC0010</td>\n",
              "      <td>NEWPORT 2.4 WNW, DE US</td>\n",
              "      <td>2010-01-03</td>\n",
              "      <td>0.00</td>\n",
              "      <td>0.0</td>\n",
              "      <td>NaN</td>\n",
              "      <td>NaN</td>\n",
              "      <td>NaN</td>\n",
              "    </tr>\n",
              "    <tr>\n",
              "      <th>3</th>\n",
              "      <td>US1DENC0010</td>\n",
              "      <td>NEWPORT 2.4 WNW, DE US</td>\n",
              "      <td>2010-01-04</td>\n",
              "      <td>0.00</td>\n",
              "      <td>0.0</td>\n",
              "      <td>NaN</td>\n",
              "      <td>NaN</td>\n",
              "      <td>NaN</td>\n",
              "    </tr>\n",
              "    <tr>\n",
              "      <th>4</th>\n",
              "      <td>US1DENC0010</td>\n",
              "      <td>NEWPORT 2.4 WNW, DE US</td>\n",
              "      <td>2010-01-05</td>\n",
              "      <td>0.00</td>\n",
              "      <td>NaN</td>\n",
              "      <td>NaN</td>\n",
              "      <td>NaN</td>\n",
              "      <td>NaN</td>\n",
              "    </tr>\n",
              "  </tbody>\n",
              "</table>\n",
              "</div>"
            ],
            "text/plain": [
              "       STATION                    NAME        DATE  ...  SNWD  WESD  WESF\n",
              "0  US1DENC0010  NEWPORT 2.4 WNW, DE US  2010-01-01  ...   0.0   NaN   NaN\n",
              "1  US1DENC0010  NEWPORT 2.4 WNW, DE US  2010-01-02  ...   NaN   NaN   NaN\n",
              "2  US1DENC0010  NEWPORT 2.4 WNW, DE US  2010-01-03  ...   NaN   NaN   NaN\n",
              "3  US1DENC0010  NEWPORT 2.4 WNW, DE US  2010-01-04  ...   NaN   NaN   NaN\n",
              "4  US1DENC0010  NEWPORT 2.4 WNW, DE US  2010-01-05  ...   NaN   NaN   NaN\n",
              "\n",
              "[5 rows x 8 columns]"
            ]
          },
          "metadata": {},
          "execution_count": 78
        }
      ]
    },
    {
      "cell_type": "code",
      "metadata": {
        "colab": {
          "base_uri": "https://localhost:8080/",
          "height": 204
        },
        "id": "ivYwf0WjrXmS",
        "outputId": "06b3ecd2-370a-4c52-ca75-06b5dd528910"
      },
      "source": [
        "rain2.head()"
      ],
      "execution_count": 79,
      "outputs": [
        {
          "output_type": "execute_result",
          "data": {
            "text/html": [
              "<div>\n",
              "<style scoped>\n",
              "    .dataframe tbody tr th:only-of-type {\n",
              "        vertical-align: middle;\n",
              "    }\n",
              "\n",
              "    .dataframe tbody tr th {\n",
              "        vertical-align: top;\n",
              "    }\n",
              "\n",
              "    .dataframe thead th {\n",
              "        text-align: right;\n",
              "    }\n",
              "</style>\n",
              "<table border=\"1\" class=\"dataframe\">\n",
              "  <thead>\n",
              "    <tr style=\"text-align: right;\">\n",
              "      <th></th>\n",
              "      <th>DATE</th>\n",
              "      <th>PRCP</th>\n",
              "    </tr>\n",
              "  </thead>\n",
              "  <tbody>\n",
              "    <tr>\n",
              "      <th>0</th>\n",
              "      <td>2010-01-01</td>\n",
              "      <td>0.28</td>\n",
              "    </tr>\n",
              "    <tr>\n",
              "      <th>1</th>\n",
              "      <td>2010-01-02</td>\n",
              "      <td>0.00</td>\n",
              "    </tr>\n",
              "    <tr>\n",
              "      <th>2</th>\n",
              "      <td>2010-01-03</td>\n",
              "      <td>0.00</td>\n",
              "    </tr>\n",
              "    <tr>\n",
              "      <th>3</th>\n",
              "      <td>2010-01-04</td>\n",
              "      <td>0.00</td>\n",
              "    </tr>\n",
              "    <tr>\n",
              "      <th>4</th>\n",
              "      <td>2010-01-05</td>\n",
              "      <td>0.00</td>\n",
              "    </tr>\n",
              "  </tbody>\n",
              "</table>\n",
              "</div>"
            ],
            "text/plain": [
              "        DATE  PRCP\n",
              "0 2010-01-01  0.28\n",
              "1 2010-01-02  0.00\n",
              "2 2010-01-03  0.00\n",
              "3 2010-01-04  0.00\n",
              "4 2010-01-05  0.00"
            ]
          },
          "metadata": {},
          "execution_count": 79
        }
      ]
    },
    {
      "cell_type": "code",
      "metadata": {
        "colab": {
          "base_uri": "https://localhost:8080/"
        },
        "id": "d2sFNc81skma",
        "outputId": "82e34fe6-d2a8-4a36-f931-98ce8bb47900"
      },
      "source": [
        "pd.to_datetime(\"2018/01/01\")"
      ],
      "execution_count": 80,
      "outputs": [
        {
          "output_type": "execute_result",
          "data": {
            "text/plain": [
              "Timestamp('2018-01-01 00:00:00')"
            ]
          },
          "metadata": {},
          "execution_count": 80
        }
      ]
    },
    {
      "cell_type": "code",
      "metadata": {
        "id": "lH56sJapsNYj"
      },
      "source": [
        "rain2018 = rain2[rain2.DATE > '2018-01-01 00:00:00' ]"
      ],
      "execution_count": 81,
      "outputs": []
    },
    {
      "cell_type": "code",
      "metadata": {
        "colab": {
          "base_uri": "https://localhost:8080/",
          "height": 204
        },
        "id": "ZDXdaTQitmJx",
        "outputId": "b3149063-3e84-4be1-9c9a-222ad62b9858"
      },
      "source": [
        "rain2018.head()"
      ],
      "execution_count": 82,
      "outputs": [
        {
          "output_type": "execute_result",
          "data": {
            "text/html": [
              "<div>\n",
              "<style scoped>\n",
              "    .dataframe tbody tr th:only-of-type {\n",
              "        vertical-align: middle;\n",
              "    }\n",
              "\n",
              "    .dataframe tbody tr th {\n",
              "        vertical-align: top;\n",
              "    }\n",
              "\n",
              "    .dataframe thead th {\n",
              "        text-align: right;\n",
              "    }\n",
              "</style>\n",
              "<table border=\"1\" class=\"dataframe\">\n",
              "  <thead>\n",
              "    <tr style=\"text-align: right;\">\n",
              "      <th></th>\n",
              "      <th>DATE</th>\n",
              "      <th>PRCP</th>\n",
              "    </tr>\n",
              "  </thead>\n",
              "  <tbody>\n",
              "    <tr>\n",
              "      <th>2923</th>\n",
              "      <td>2018-01-02</td>\n",
              "      <td>0.00</td>\n",
              "    </tr>\n",
              "    <tr>\n",
              "      <th>2924</th>\n",
              "      <td>2018-01-03</td>\n",
              "      <td>0.00</td>\n",
              "    </tr>\n",
              "    <tr>\n",
              "      <th>2925</th>\n",
              "      <td>2018-01-04</td>\n",
              "      <td>0.07</td>\n",
              "    </tr>\n",
              "    <tr>\n",
              "      <th>2926</th>\n",
              "      <td>2018-01-05</td>\n",
              "      <td>0.20</td>\n",
              "    </tr>\n",
              "    <tr>\n",
              "      <th>2927</th>\n",
              "      <td>2018-01-06</td>\n",
              "      <td>0.00</td>\n",
              "    </tr>\n",
              "  </tbody>\n",
              "</table>\n",
              "</div>"
            ],
            "text/plain": [
              "           DATE  PRCP\n",
              "2923 2018-01-02  0.00\n",
              "2924 2018-01-03  0.00\n",
              "2925 2018-01-04  0.07\n",
              "2926 2018-01-05  0.20\n",
              "2927 2018-01-06  0.00"
            ]
          },
          "metadata": {},
          "execution_count": 82
        }
      ]
    },
    {
      "cell_type": "code",
      "metadata": {
        "id": "kvfapiBNs7lx"
      },
      "source": [
        "mu = .14\n",
        "sigma = .38\n"
      ],
      "execution_count": 83,
      "outputs": []
    },
    {
      "cell_type": "code",
      "metadata": {
        "id": "8pVlRvJXtFhJ"
      },
      "source": [
        "xHat = rain2018.PRCP.mean()"
      ],
      "execution_count": 84,
      "outputs": []
    },
    {
      "cell_type": "code",
      "metadata": {
        "id": "PHBTLcZWtOjk"
      },
      "source": [
        "N = rain2018.shape[0]"
      ],
      "execution_count": 85,
      "outputs": []
    },
    {
      "cell_type": "code",
      "metadata": {
        "id": "nC5dxp3ZtfL5"
      },
      "source": [
        "Z = (xHat - mu) / (sigma / np.sqrt(N))"
      ],
      "execution_count": 86,
      "outputs": []
    },
    {
      "cell_type": "code",
      "metadata": {
        "colab": {
          "base_uri": "https://localhost:8080/"
        },
        "id": "TLLrLPWytzG9",
        "outputId": "e123377a-5772-4032-b2c4-80077228550a"
      },
      "source": [
        "Z"
      ],
      "execution_count": 87,
      "outputs": [
        {
          "output_type": "execute_result",
          "data": {
            "text/plain": [
              "1.4686385901934103"
            ]
          },
          "metadata": {},
          "execution_count": 87
        }
      ]
    },
    {
      "cell_type": "code",
      "metadata": {
        "id": "6tTLFQ3kusFf"
      },
      "source": [
        ""
      ],
      "execution_count": 87,
      "outputs": []
    }
  ]
}