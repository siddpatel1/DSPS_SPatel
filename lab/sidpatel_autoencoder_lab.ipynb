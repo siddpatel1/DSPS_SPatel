{
  "nbformat": 4,
  "nbformat_minor": 0,
  "metadata": {
    "colab": {
      "name": "sidpatel_autoencoder_lab.ipynb",
      "provenance": [],
      "authorship_tag": "ABX9TyO4SDhHSrgBIFzZaTSQo0nC",
      "include_colab_link": true
    },
    "kernelspec": {
      "name": "python3",
      "display_name": "Python 3"
    },
    "language_info": {
      "name": "python"
    },
    "accelerator": "GPU"
  },
  "cells": [
    {
      "cell_type": "markdown",
      "metadata": {
        "id": "view-in-github",
        "colab_type": "text"
      },
      "source": [
        "<a href=\"https://colab.research.google.com/github/siddpatel1/DSPS_SPatel/blob/main/lab/sidpatel_autoencoder_lab.ipynb\" target=\"_parent\"><img src=\"https://colab.research.google.com/assets/colab-badge.svg\" alt=\"Open In Colab\"/></a>"
      ]
    },
    {
      "cell_type": "code",
      "metadata": {
        "id": "XSXjeZcnQN12"
      },
      "source": [
        "import keras"
      ],
      "execution_count": 1,
      "outputs": []
    },
    {
      "cell_type": "code",
      "metadata": {
        "id": "oh2WoNv6XVp_"
      },
      "source": [
        "from keras.datasets import mnist "
      ],
      "execution_count": 2,
      "outputs": []
    },
    {
      "cell_type": "code",
      "metadata": {
        "id": "Tg7LQXv7Xh8U"
      },
      "source": [
        "#runtime to GPU"
      ],
      "execution_count": 3,
      "outputs": []
    },
    {
      "cell_type": "code",
      "metadata": {
        "colab": {
          "base_uri": "https://localhost:8080/"
        },
        "id": "JzA-Ula8X0J9",
        "outputId": "cdfd2795-844d-4e44-c6fc-5853e98aaf38"
      },
      "source": [
        "len(mnist.load_data())"
      ],
      "execution_count": 4,
      "outputs": [
        {
          "output_type": "stream",
          "name": "stdout",
          "text": [
            "Downloading data from https://storage.googleapis.com/tensorflow/tf-keras-datasets/mnist.npz\n",
            "11493376/11490434 [==============================] - 0s 0us/step\n",
            "11501568/11490434 [==============================] - 0s 0us/step\n"
          ]
        },
        {
          "output_type": "execute_result",
          "data": {
            "text/plain": [
              "2"
            ]
          },
          "metadata": {},
          "execution_count": 4
        }
      ]
    },
    {
      "cell_type": "code",
      "metadata": {
        "id": "7UvLCHz9X4LS"
      },
      "source": [
        "(x_train, _), (x_test, _) = mnist.load_data() "
      ],
      "execution_count": 5,
      "outputs": []
    },
    {
      "cell_type": "code",
      "metadata": {
        "colab": {
          "base_uri": "https://localhost:8080/"
        },
        "id": "k4uGhZ_kYRvi",
        "outputId": "709c0ff3-5c81-4cc3-a52d-6d24dff4c88a"
      },
      "source": [
        "x_train.shape"
      ],
      "execution_count": 6,
      "outputs": [
        {
          "output_type": "execute_result",
          "data": {
            "text/plain": [
              "(60000, 28, 28)"
            ]
          },
          "metadata": {},
          "execution_count": 6
        }
      ]
    },
    {
      "cell_type": "code",
      "metadata": {
        "id": "ztczry0wYTdD"
      },
      "source": [
        "nimg, img_row, img_col = x_train.shape"
      ],
      "execution_count": 7,
      "outputs": []
    },
    {
      "cell_type": "code",
      "metadata": {
        "id": "Dte9R4G9Yeio"
      },
      "source": [
        "import pylab as pl"
      ],
      "execution_count": 8,
      "outputs": []
    },
    {
      "cell_type": "code",
      "metadata": {
        "colab": {
          "base_uri": "https://localhost:8080/",
          "height": 282
        },
        "id": "D7WXZp-IYf3T",
        "outputId": "ae9af1ae-a3a7-4e14-ac33-5740782546bf"
      },
      "source": [
        "pl.imshow(x_train[0])"
      ],
      "execution_count": 9,
      "outputs": [
        {
          "output_type": "execute_result",
          "data": {
            "text/plain": [
              "<matplotlib.image.AxesImage at 0x7f3406f1f8d0>"
            ]
          },
          "metadata": {},
          "execution_count": 9
        },
        {
          "output_type": "display_data",
          "data": {
            "image/png": "[encoded data removed]",
            "text/plain": [
              "<Figure size 432x288 with 1 Axes>"
            ]
          },
          "metadata": {
            "needs_background": "light"
          }
        }
      ]
    },
    {
      "cell_type": "code",
      "metadata": {
        "colab": {
          "base_uri": "https://localhost:8080/"
        },
        "id": "4Dml26arYhtC",
        "outputId": "bfbad6d5-2208-48f6-ef37-ba313b75abd1"
      },
      "source": [
        "x_train.max()"
      ],
      "execution_count": 10,
      "outputs": [
        {
          "output_type": "execute_result",
          "data": {
            "text/plain": [
              "255"
            ]
          },
          "metadata": {},
          "execution_count": 10
        }
      ]
    },
    {
      "cell_type": "code",
      "metadata": {
        "colab": {
          "base_uri": "https://localhost:8080/"
        },
        "id": "-uVMowFhZApb",
        "outputId": "1105b357-d2c1-43d7-8ff1-a01406d71fe3"
      },
      "source": [
        "x_train.dtype"
      ],
      "execution_count": 11,
      "outputs": [
        {
          "output_type": "execute_result",
          "data": {
            "text/plain": [
              "dtype('uint8')"
            ]
          },
          "metadata": {},
          "execution_count": 11
        }
      ]
    },
    {
      "cell_type": "code",
      "metadata": {
        "id": "5If8yTwdZJCr"
      },
      "source": [
        "x_train = (x_train.astype(float) / 255)"
      ],
      "execution_count": 12,
      "outputs": []
    },
    {
      "cell_type": "code",
      "metadata": {
        "id": "7Ceawea0eQts"
      },
      "source": [
        "x_test = (x_test.astype(float) / 255)"
      ],
      "execution_count": 13,
      "outputs": []
    },
    {
      "cell_type": "code",
      "metadata": {
        "id": "_F_Z7D-3ZV2a"
      },
      "source": [
        "x_train = x_train.reshape(nimg, img_row*img_col)"
      ],
      "execution_count": 14,
      "outputs": []
    },
    {
      "cell_type": "code",
      "metadata": {
        "id": "2_Hw1j8JeZX0"
      },
      "source": [
        "x_test = x_test.reshape(x_test.shape[0], img_row*img_col)"
      ],
      "execution_count": 15,
      "outputs": []
    },
    {
      "cell_type": "code",
      "metadata": {
        "id": "hxuaTtqhZnaq"
      },
      "source": [
        "y_train = x_train.copy()"
      ],
      "execution_count": 16,
      "outputs": []
    },
    {
      "cell_type": "code",
      "metadata": {
        "id": "-D93VMWCbVv-"
      },
      "source": [
        "from keras.models import Sequential\n",
        "from keras.layers import Dense"
      ],
      "execution_count": 17,
      "outputs": []
    },
    {
      "cell_type": "code",
      "metadata": {
        "id": "ukvHwDnSb4G8"
      },
      "source": [
        "model_digits = Sequential()"
      ],
      "execution_count": 18,
      "outputs": []
    },
    {
      "cell_type": "code",
      "metadata": {
        "id": "KTsXrZXbcTbb"
      },
      "source": [
        "model_digits.add(Dense(128, activation=\"relu\", input_dim=img_col*img_row))\n",
        "model_digits.add(Dense(64, activation=\"relu\"))\n",
        "model_digits.add(Dense(128, activation=\"relu\"))\n",
        "model_digits.add(Dense(img_col*img_row, activation=\"linear\"))\n",
        "\n"
      ],
      "execution_count": 19,
      "outputs": []
    },
    {
      "cell_type": "code",
      "metadata": {
        "id": "Eo5d-zD8dOS_"
      },
      "source": [
        "model_digits.compile(optimizer=\"adadelta\", loss=\"mean_squared_error\")"
      ],
      "execution_count": 20,
      "outputs": []
    },
    {
      "cell_type": "code",
      "metadata": {
        "colab": {
          "base_uri": "https://localhost:8080/"
        },
        "id": "lQUVwrnjdmYJ",
        "outputId": "8005a032-e87c-4d7a-ba31-b986ea9b578b"
      },
      "source": [
        "model_digits.summary()"
      ],
      "execution_count": 21,
      "outputs": [
        {
          "output_type": "stream",
          "name": "stdout",
          "text": [
            "Model: \"sequential\"\n",
            "_________________________________________________________________\n",
            " Layer (type)                Output Shape              Param #   \n",
            "=================================================================\n",
            " dense (Dense)               (None, 128)               100480    \n",
            "                                                                 \n",
            " dense_1 (Dense)             (None, 64)                8256      \n",
            "                                                                 \n",
            " dense_2 (Dense)             (None, 128)               8320      \n",
            "                                                                 \n",
            " dense_3 (Dense)             (None, 784)               101136    \n",
            "                                                                 \n",
            "=================================================================\n",
            "Total params: 218,192\n",
            "Trainable params: 218,192\n",
            "Non-trainable params: 0\n",
            "_________________________________________________________________\n"
          ]
        }
      ]
    },
    {
      "cell_type": "code",
      "metadata": {
        "colab": {
          "base_uri": "https://localhost:8080/"
        },
        "id": "KCwnVIjAdppY",
        "outputId": "39b1ab11-4a8c-4783-fef9-4da804e00486"
      },
      "source": [
        "model_digits.fit(x_train, x_train, validation_data=(x_test,x_test), epochs=20, batch_size=100, verbose=1)"
      ],
      "execution_count": 22,
      "outputs": [
        {
          "output_type": "stream",
          "name": "stdout",
          "text": [
            "Epoch 1/20\n",
            "600/600 [==============================] - 5s 4ms/step - loss: 0.1161 - val_loss: 0.1174\n",
            "Epoch 2/20\n",
            "600/600 [==============================] - 2s 4ms/step - loss: 0.1149 - val_loss: 0.1163\n",
            "Epoch 3/20\n",
            "600/600 [==============================] - 2s 4ms/step - loss: 0.1139 - val_loss: 0.1154\n",
            "Epoch 4/20\n",
            "600/600 [==============================] - 2s 4ms/step - loss: 0.1130 - val_loss: 0.1146\n",
            "Epoch 5/20\n",
            "600/600 [==============================] - 2s 4ms/step - loss: 0.1123 - val_loss: 0.1139\n",
            "Epoch 6/20\n",
            "600/600 [==============================] - 2s 4ms/step - loss: 0.1117 - val_loss: 0.1133\n",
            "Epoch 7/20\n",
            "600/600 [==============================] - 2s 4ms/step - loss: 0.1111 - val_loss: 0.1127\n",
            "Epoch 8/20\n",
            "600/600 [==============================] - 2s 4ms/step - loss: 0.1106 - val_loss: 0.1122\n",
            "Epoch 9/20\n",
            "600/600 [==============================] - 2s 4ms/step - loss: 0.1101 - val_loss: 0.1117\n",
            "Epoch 10/20\n",
            "600/600 [==============================] - 2s 4ms/step - loss: 0.1097 - val_loss: 0.1113\n",
            "Epoch 11/20\n",
            "600/600 [==============================] - 2s 4ms/step - loss: 0.1092 - val_loss: 0.1108\n",
            "Epoch 12/20\n",
            "600/600 [==============================] - 2s 4ms/step - loss: 0.1088 - val_loss: 0.1104\n",
            "Epoch 13/20\n",
            "600/600 [==============================] - 2s 4ms/step - loss: 0.1084 - val_loss: 0.1100\n",
            "Epoch 14/20\n",
            "600/600 [==============================] - 2s 4ms/step - loss: 0.1080 - val_loss: 0.1096\n",
            "Epoch 15/20\n",
            "600/600 [==============================] - 2s 4ms/step - loss: 0.1076 - val_loss: 0.1092\n",
            "Epoch 16/20\n",
            "600/600 [==============================] - 2s 4ms/step - loss: 0.1072 - val_loss: 0.1088\n",
            "Epoch 17/20\n",
            "600/600 [==============================] - 2s 4ms/step - loss: 0.1069 - val_loss: 0.1084\n",
            "Epoch 18/20\n",
            "600/600 [==============================] - 2s 4ms/step - loss: 0.1065 - val_loss: 0.1080\n",
            "Epoch 19/20\n",
            "600/600 [==============================] - 2s 4ms/step - loss: 0.1061 - val_loss: 0.1076\n",
            "Epoch 20/20\n",
            "600/600 [==============================] - 2s 4ms/step - loss: 0.1057 - val_loss: 0.1072\n"
          ]
        },
        {
          "output_type": "execute_result",
          "data": {
            "text/plain": [
              "<keras.callbacks.History at 0x7f3400868490>"
            ]
          },
          "metadata": {},
          "execution_count": 22
        }
      ]
    },
    {
      "cell_type": "code",
      "metadata": {
        "id": "bsKG_XA0exio"
      },
      "source": [
        ""
      ],
      "execution_count": 22,
      "outputs": []
    }
  ]
}