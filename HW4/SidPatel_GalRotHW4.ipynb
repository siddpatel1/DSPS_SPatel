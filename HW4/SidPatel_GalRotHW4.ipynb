{
  "nbformat": 4,
  "nbformat_minor": 0,
  "metadata": {
    "colab": {
      "name": "SidPatel GalRotHW4.ipynb",
      "provenance": [],
      "collapsed_sections": [
        "6me5k4c1OdDY"
      ],
      "include_colab_link": true
    },
    "kernelspec": {
      "display_name": "Python 3",
      "language": "python",
      "name": "python3"
    },
    "language_info": {
      "codemirror_mode": {
        "name": "ipython",
        "version": 3
      },
      "file_extension": ".py",
      "mimetype": "text/x-python",
      "name": "python",
      "nbconvert_exporter": "python",
      "pygments_lexer": "ipython3",
      "version": "3.6.7"
    },
    "nbTranslate": {
      "displayLangs": [
        "*"
      ],
      "hotkey": "alt-t",
      "langInMainMenu": true,
      "sourceLang": "en",
      "targetLang": "fr",
      "useGoogleTranslate": true
    },
    "toc": {
      "base_numbering": 1,
      "colors": {
        "hover_highlight": "#DAA520",
        "running_highlight": "#FF0000",
        "selected_highlight": "#FFD700"
      },
      "moveMenuLeft": true,
      "nav_menu": {},
      "navigate_menu": true,
      "number_sections": true,
      "sideBar": true,
      "skip_h1_title": false,
      "threshold": 4,
      "title_cell": "Table of Contents",
      "title_sidebar": "Contents",
      "toc_cell": false,
      "toc_position": {
        "height": "calc(100% - 180px)",
        "left": "10px",
        "top": "150px",
        "width": "165px"
      },
      "toc_section_display": true,
      "toc_window_display": true
    }
  },
  "cells": [
    {
      "cell_type": "markdown",
      "metadata": {
        "id": "view-in-github",
        "colab_type": "text"
      },
      "source": [
        "<a href=\"https://colab.research.google.com/github/siddpatel1/DSPS_SPatel/blob/main/HW4/SidPatel_GalRotHW4.ipynb\" target=\"_parent\"><img src=\"https://colab.research.google.com/assets/colab-badge.svg\" alt=\"Open In Colab\"/></a>"
      ]
    },
    {
      "cell_type": "markdown",
      "metadata": {
        "id": "rxa6Xa3jOdCI",
        "run_control": {
          "frozen": false,
          "read_only": false
        }
      },
      "source": [
        "prepared by federica b bianco @fedhere\n",
        "for UDel DSPS PHYS 467/667\n",
        "\n",
        "# testing the significance of Dark Matter"
      ]
    },
    {
      "cell_type": "code",
      "metadata": {
        "ExecuteTime": {
          "end_time": "2019-09-16T17:54:57.244596Z",
          "start_time": "2019-09-16T17:54:57.231090Z"
        },
        "colab": {
          "base_uri": "https://localhost:8080/"
        },
        "id": "Ya2RaOGbOdCJ",
        "run_control": {
          "frozen": false,
          "read_only": false
        },
        "outputId": "71318ddf-c9d2-4e0a-a161-31769f8672dc"
      },
      "source": [
        "import pandas as pd\n",
        "import numpy as np\n",
        "import pylab as plt\n",
        "%pylab inline\n",
        "\n",
        "\n",
        "#package I will use for constants and units conversion \n",
        "import astropy\n",
        "import matplotlib.lines as mlines\n",
        "from fractions import Fraction\n",
        "\n"
      ],
      "execution_count": 392,
      "outputs": [
        {
          "output_type": "stream",
          "name": "stdout",
          "text": [
            "Populating the interactive namespace from numpy and matplotlib\n"
          ]
        },
        {
          "output_type": "stream",
          "name": "stderr",
          "text": [
            "/usr/local/lib/python3.7/dist-packages/IPython/core/magics/pylab.py:161: UserWarning: pylab import has clobbered these variables: ['plt']\n",
            "`%matplotlib` prevents importing * from pylab and numpy\n",
            "  \"\\n`%matplotlib` prevents importing * from pylab and numpy\"\n"
          ]
        }
      ]
    },
    {
      "cell_type": "markdown",
      "metadata": {
        "id": "4qp8A2TG1Gwb",
        "run_control": {
          "frozen": false,
          "read_only": false
        }
      },
      "source": [
        "In 1970 Vera Rubin published a seminal paper: she measured the rotational speed of HII regions in several galaxies and how it changed as a function of distance to the center of the galaxy. If we believe Newtonian gravity (or GR) we expect that _once all of the mass is included_, i.e. at a radius distance from the center of the galaxy larger than the radius of the galaxy itself, the rotational speed will be proportional to $v\\propto\\frac{1}/{r}$"
      ]
    },
    {
      "cell_type": "markdown",
      "metadata": {
        "id": "j-BDrNseOdCR",
        "run_control": {
          "frozen": false,
          "read_only": false
        }
      },
      "source": [
        "## Propagation of  uncertainties rules\n",
        "\n",
        "below are the basic rules for propagation of uncertainties - use [this as reference](https://github.com/fedhere/DSPS/blob/master/resources/Managing%20Errors%20and%20Uncertainty.pdf)"
      ]
    },
    {
      "cell_type": "markdown",
      "metadata": {
        "id": "iCrFipBzOzqp",
        "run_control": {
          "frozen": false,
          "read_only": false
        }
      },
      "source": [
        "\n",
        "\n",
        "\n",
        "$$\n",
        "\\begin{eqnarray}\n",
        "z = x  \\pm y  ~| & ~  &dz = \\sqrt{dx^2 + dy^2} \n",
        "\\\\\n",
        "z = x * y  ~| & ~& dz = |xy|  \\sqrt{\\left(\\frac{dx}{x}\\right)^2 + \n",
        "                                \\left(\\frac{dy}{y}\\right)^2} \\\\\n",
        "z = x / y  ~| & ~& dz = \\left|\\frac{x}{y}\\right| \\sqrt{\\left(\\frac{dx}{x}\\right)^2 + \n",
        "                                                   \\left(\\frac{dy}{y}\\right)^2} \\\\\n",
        "z = x^n ~| & ~& dz = |n| ~ x^{n-1}  dx \\\\\n",
        "z = \\mathrm{c}x ~| & ~& dz = |\\mathrm{c}| ~dx \\\\\n",
        "z = f(x, y) ~| & ~& dz = \\sqrt{\\left(\\frac{\\partial f}{\\partial x}\\right)^2 dx^2 +\\left(\\frac{\\partial f}{\\partial y}\\right)^2 dy^2} \\\\\n",
        "\\end{eqnarray}\n",
        "$$\n"
      ]
    },
    {
      "cell_type": "markdown",
      "metadata": {
        "id": "WcF0zlWCOdCX",
        "run_control": {
          "frozen": false,
          "read_only": false
        }
      },
      "source": [
        "# let's assume a Newtonian framework: \n",
        "the velocity of a body in orbit depends only on the gravitational field of the mass that attracts it, and we can assume that mass is concentrated in the center of mass of (the center for simplicity) the system\n",
        "\n",
        "with G the gravitational constant, $r$ the radius, and $m(r)$ the mass contained within that radius we have the orbital velocity $v$:\n"
      ]
    },
    {
      "cell_type": "markdown",
      "metadata": {
        "id": "ZON0DKl5Qm2S",
        "run_control": {
          "frozen": false,
          "read_only": false
        }
      },
      "source": [
        "\n",
        "$v^2 = \\frac{G \\cdot m(r)}{r}$\n"
      ]
    },
    {
      "cell_type": "markdown",
      "metadata": {
        "id": "lVfy9lJ21xMT",
        "run_control": {
          "frozen": false,
          "read_only": false
        }
      },
      "source": [
        "Derive this $v^2\\propto\\frac{1}{r}$ from Newton's law $F~=~\\frac{GMm}{r^2}$. Write each formula and describe each step. You can use latex (you really just need to know ```\\frac{}``` and ```^```) and this reference\n",
        "https://www.physicsclassroom.com/calcpad/circgrav"
      ]
    },
    {
      "cell_type": "markdown",
      "metadata": {
        "id": "HEB7hQojuAQt",
        "run_control": {
          "frozen": false,
          "read_only": false
        }
      },
      "source": [
        "Newton's Law of Gravitation and Centripetal force.\n",
        "$$\n",
        "F = \\frac{GMm}{r^2}\n",
        "\\, ,\n",
        "F = \\frac{mv^2}{r}\n",
        "$$\n",
        "\n",
        "\n",
        "\n",
        "$(1)\\,$ Equate both equations.\n",
        "\n",
        "$$\n",
        " \\frac{mv^2}{r} = \\frac{GMm}{r}\n",
        "$$\n",
        "\n",
        "$(2)\\,$Cancel out $m$ and multiply both sides by $r$. \n",
        "\n",
        "$$\n",
        "v^2 = \\frac{GM}{r}\n",
        "$$\n",
        "\n",
        "$(3)\\,$ Since G and M are constants, we can ignore them to derive the following proportionality:\n",
        "\n",
        "$$\n",
        "v^2 \\propto \\frac{1}{r}\n",
        "$$\n"
      ]
    },
    {
      "cell_type": "markdown",
      "metadata": {
        "id": "KQAEJtWuOdCb",
        "run_control": {
          "frozen": false,
          "read_only": false
        }
      },
      "source": [
        "## M31 rotational curve"
      ]
    },
    {
      "cell_type": "markdown",
      "metadata": {
        "ExecuteTime": {
          "end_time": "2019-08-02T01:34:15.029084Z",
          "start_time": "2019-08-02T01:34:15.026604Z"
        },
        "id": "BTaXzFYeOdCc",
        "run_control": {
          "frozen": false,
          "read_only": false
        }
      },
      "source": [
        "# Galaxy Rotational Curves\n",
        "The data comes from [SOFUE 2015](http://www.ioa.s.u-tokyo.ac.jp/~sofue/htdocs/2015m31/2015-pasj-M31MW-DH.pdf)\n",
        "The data are plotted in Figure 3 and 4 for M31 and the Milky Way respectively, and hosted on [this website](http://www.ioa.s.u-tokyo.ac.jp/~sofue/htdocs/2015m31/)\n",
        "As described in the paper: \n",
        "Long and short bars represent modified standard deviations and errors, respectively\n",
        "\n",
        "#### Please read the last paragraphs of Section 2.1 of the paper to understand the meaning of these uncertainties:\n",
        "\n",
        "![figures](https://github.com/fedhere/DSPS_FBianco/blob/master/HW4/figures.png?raw=1)\n",
        "\n"
      ]
    },
    {
      "cell_type": "markdown",
      "metadata": {
        "ExecuteTime": {
          "end_time": "2019-09-22T00:10:02.465470Z",
          "start_time": "2019-09-22T00:10:02.455255Z"
        },
        "run_control": {
          "frozen": false,
          "read_only": false
        },
        "id": "ucHx5iSI7jIk"
      },
      "source": [
        "\n",
        "\n",
        "![text](https://github.com/fedhere/DSPS_FBianco/blob/master/HW4/text.png?raw=1)\n",
        "\n",
        "### data ingestion\n",
        "Get the data from the github repository https://github.com/fedhere/DSPS/tree/master/HW4 : there are 2 files: mw.csv and m31.csv. Start with M31, the Andromeda galaxy, Vera Rubin's original target."
      ]
    },
    {
      "cell_type": "markdown",
      "metadata": {
        "id": "_iFrkUYEV1SS",
        "run_control": {
          "frozen": false,
          "read_only": false
        }
      },
      "source": [
        "Note that the data contains 2 types of uncertainties: one significantly smaller than the other. The ```dv``` uncertainty is the propagation of the uncertainty in the location of the HII line. The uncertainty called ```err``` if the full error budget:  including _all_ sources of uncertainty and not just the uncertainty in measuring the location of the line. Retain both, you will test your hypothesis with each one to see if it matters which uncertainty you choose"
      ]
    },
    {
      "cell_type": "code",
      "metadata": {
        "id": "PFYBlhUjt8_e",
        "run_control": {
          "frozen": false,
          "read_only": false
        }
      },
      "source": [
        "m31 = pd.read_csv(\"https://raw.githubusercontent.com/fedhere/DSPS_FBianco/master/HW4/m31.csv\",header=1)\n",
        "m31 = m31[['#R(kpc', 'V(km/s)', 'St.dev.','St.error']].rename({'#R(kpc':\"r\", 'V(km/s)':\"v\", 'St.dev.':\"dv\",'St.error':\"err\"}, axis=1)"
      ],
      "execution_count": 393,
      "outputs": []
    },
    {
      "cell_type": "code",
      "metadata": {
        "colab": {
          "base_uri": "https://localhost:8080/",
          "height": 204
        },
        "id": "luL5UrsNQ1M1",
        "run_control": {
          "frozen": false,
          "read_only": false
        },
        "outputId": "76d89cf3-c194-462b-a94b-d20a8da2166f"
      },
      "source": [
        "m31.head()"
      ],
      "execution_count": 394,
      "outputs": [
        {
          "output_type": "execute_result",
          "data": {
            "text/html": [
              "<div>\n",
              "<style scoped>\n",
              "    .dataframe tbody tr th:only-of-type {\n",
              "        vertical-align: middle;\n",
              "    }\n",
              "\n",
              "    .dataframe tbody tr th {\n",
              "        vertical-align: top;\n",
              "    }\n",
              "\n",
              "    .dataframe thead th {\n",
              "        text-align: right;\n",
              "    }\n",
              "</style>\n",
              "<table border=\"1\" class=\"dataframe\">\n",
              "  <thead>\n",
              "    <tr style=\"text-align: right;\">\n",
              "      <th></th>\n",
              "      <th>r</th>\n",
              "      <th>v</th>\n",
              "      <th>dv</th>\n",
              "      <th>err</th>\n",
              "    </tr>\n",
              "  </thead>\n",
              "  <tbody>\n",
              "    <tr>\n",
              "      <th>0</th>\n",
              "      <td>0.100</td>\n",
              "      <td>183.939</td>\n",
              "      <td>0.000</td>\n",
              "      <td>0.000</td>\n",
              "    </tr>\n",
              "    <tr>\n",
              "      <th>1</th>\n",
              "      <td>0.120</td>\n",
              "      <td>190.710</td>\n",
              "      <td>10.265</td>\n",
              "      <td>12.191</td>\n",
              "    </tr>\n",
              "    <tr>\n",
              "      <th>2</th>\n",
              "      <td>0.144</td>\n",
              "      <td>204.141</td>\n",
              "      <td>22.634</td>\n",
              "      <td>21.808</td>\n",
              "    </tr>\n",
              "    <tr>\n",
              "      <th>3</th>\n",
              "      <td>0.173</td>\n",
              "      <td>207.601</td>\n",
              "      <td>4.573</td>\n",
              "      <td>4.200</td>\n",
              "    </tr>\n",
              "    <tr>\n",
              "      <th>4</th>\n",
              "      <td>0.207</td>\n",
              "      <td>210.188</td>\n",
              "      <td>3.943</td>\n",
              "      <td>3.258</td>\n",
              "    </tr>\n",
              "  </tbody>\n",
              "</table>\n",
              "</div>"
            ],
            "text/plain": [
              "       r        v      dv     err\n",
              "0  0.100  183.939   0.000   0.000\n",
              "1  0.120  190.710  10.265  12.191\n",
              "2  0.144  204.141  22.634  21.808\n",
              "3  0.173  207.601   4.573   4.200\n",
              "4  0.207  210.188   3.943   3.258"
            ]
          },
          "metadata": {},
          "execution_count": 394
        }
      ]
    },
    {
      "cell_type": "code",
      "metadata": {
        "ExecuteTime": {
          "end_time": "2019-08-02T01:35:26.395158Z",
          "start_time": "2019-08-02T01:35:26.373338Z"
        },
        "colab": {
          "base_uri": "https://localhost:8080/",
          "height": 297
        },
        "id": "QsNRokb1OdCh",
        "run_control": {
          "frozen": false,
          "read_only": false
        },
        "outputId": "7e3a1fff-720f-457c-d456-10f61f47d934"
      },
      "source": [
        "m31.describe()"
      ],
      "execution_count": 395,
      "outputs": [
        {
          "output_type": "execute_result",
          "data": {
            "text/html": [
              "<div>\n",
              "<style scoped>\n",
              "    .dataframe tbody tr th:only-of-type {\n",
              "        vertical-align: middle;\n",
              "    }\n",
              "\n",
              "    .dataframe tbody tr th {\n",
              "        vertical-align: top;\n",
              "    }\n",
              "\n",
              "    .dataframe thead th {\n",
              "        text-align: right;\n",
              "    }\n",
              "</style>\n",
              "<table border=\"1\" class=\"dataframe\">\n",
              "  <thead>\n",
              "    <tr style=\"text-align: right;\">\n",
              "      <th></th>\n",
              "      <th>r</th>\n",
              "      <th>v</th>\n",
              "      <th>dv</th>\n",
              "      <th>err</th>\n",
              "    </tr>\n",
              "  </thead>\n",
              "  <tbody>\n",
              "    <tr>\n",
              "      <th>count</th>\n",
              "      <td>55.000000</td>\n",
              "      <td>55.000000</td>\n",
              "      <td>55.000000</td>\n",
              "      <td>55.000000</td>\n",
              "    </tr>\n",
              "    <tr>\n",
              "      <th>mean</th>\n",
              "      <td>205.853182</td>\n",
              "      <td>226.079255</td>\n",
              "      <td>55.034818</td>\n",
              "      <td>16.165855</td>\n",
              "    </tr>\n",
              "    <tr>\n",
              "      <th>std</th>\n",
              "      <td>415.523904</td>\n",
              "      <td>42.799892</td>\n",
              "      <td>49.254792</td>\n",
              "      <td>14.876951</td>\n",
              "    </tr>\n",
              "    <tr>\n",
              "      <th>min</th>\n",
              "      <td>0.100000</td>\n",
              "      <td>121.974000</td>\n",
              "      <td>0.000000</td>\n",
              "      <td>0.000000</td>\n",
              "    </tr>\n",
              "    <tr>\n",
              "      <th>25%</th>\n",
              "      <td>1.177000</td>\n",
              "      <td>208.894500</td>\n",
              "      <td>11.945500</td>\n",
              "      <td>3.224000</td>\n",
              "    </tr>\n",
              "    <tr>\n",
              "      <th>50%</th>\n",
              "      <td>13.737000</td>\n",
              "      <td>229.124000</td>\n",
              "      <td>30.697000</td>\n",
              "      <td>12.065000</td>\n",
              "    </tr>\n",
              "    <tr>\n",
              "      <th>75%</th>\n",
              "      <td>161.675000</td>\n",
              "      <td>244.102500</td>\n",
              "      <td>99.980000</td>\n",
              "      <td>23.641000</td>\n",
              "    </tr>\n",
              "    <tr>\n",
              "      <th>max</th>\n",
              "      <td>1887.071000</td>\n",
              "      <td>414.942000</td>\n",
              "      <td>147.835000</td>\n",
              "      <td>54.110000</td>\n",
              "    </tr>\n",
              "  </tbody>\n",
              "</table>\n",
              "</div>"
            ],
            "text/plain": [
              "                 r           v          dv        err\n",
              "count    55.000000   55.000000   55.000000  55.000000\n",
              "mean    205.853182  226.079255   55.034818  16.165855\n",
              "std     415.523904   42.799892   49.254792  14.876951\n",
              "min       0.100000  121.974000    0.000000   0.000000\n",
              "25%       1.177000  208.894500   11.945500   3.224000\n",
              "50%      13.737000  229.124000   30.697000  12.065000\n",
              "75%     161.675000  244.102500   99.980000  23.641000\n",
              "max    1887.071000  414.942000  147.835000  54.110000"
            ]
          },
          "metadata": {},
          "execution_count": 395
        }
      ]
    },
    {
      "cell_type": "markdown",
      "metadata": {
        "id": "Vv0Ut6vOOdCk",
        "run_control": {
          "frozen": false,
          "read_only": false
        }
      },
      "source": [
        "from https://en.wikipedia.org/wiki/Andromeda_Galaxy get the extent of the luminous component of M31 (Andromeda). The distance of the Galaxy multiplied by the angular size will give you this information from basic trigonometry (make sure you convert the units properly, using astropy). Make sure you include the uncertainties! uncertainties in the distance will give you the uncertainty in the size\n",
        "   \n",
        " "
      ]
    },
    {
      "cell_type": "code",
      "metadata": {
        "id": "kvIFr6D778ri",
        "run_control": {
          "frozen": false,
          "read_only": false
        }
      },
      "source": [
        "apparentSizeM31 = 3.167 * 1 #deg\n",
        "distanceM31 = (765) #kpc \n"
      ],
      "execution_count": 396,
      "outputs": []
    },
    {
      "cell_type": "code",
      "metadata": {
        "ExecuteTime": {
          "end_time": "2019-08-02T01:35:41.413407Z",
          "start_time": "2019-08-02T01:35:41.408764Z"
        },
        "colab": {
          "base_uri": "https://localhost:8080/"
        },
        "id": "tzGNh98hOdCl",
        "run_control": {
          "frozen": false,
          "read_only": false
        },
        "outputId": "cd0aceee-ca21-4cea-e94d-5cb23bc4ff70"
      },
      "source": [
        "# note : by PEP8 standards the import should be at the top, I leave it here for hyou to see that I am using astropy.units now\n",
        "from astropy import units as u\n",
        "m31angS = apparentSizeM31 * u.degree\n",
        "print(\"Angular Size of the visible component of Andromeda: {:.2f}\".format(m31angS.to(u.rad)  ))"
      ],
      "execution_count": 397,
      "outputs": [
        {
          "output_type": "stream",
          "name": "stdout",
          "text": [
            "Angular Size of the visible component of Andromeda: 0.06 rad\n"
          ]
        }
      ]
    },
    {
      "cell_type": "markdown",
      "metadata": {
        "id": "cOw0Y4KNWTOZ",
        "run_control": {
          "frozen": false,
          "read_only": false
        }
      },
      "source": [
        "Please make sure you print a sensible number of decimal digits! you have a  number of significant digits set by the number of digit in the info you get from wikipedia"
      ]
    },
    {
      "cell_type": "markdown",
      "metadata": {
        "id": "hF2wXZ988QgS",
        "run_control": {
          "frozen": false,
          "read_only": false
        }
      },
      "source": [
        "The distance, from Wikipedia, will have an uncertainty. Convert both to kiloparsecs Kpc"
      ]
    },
    {
      "cell_type": "code",
      "metadata": {
        "ExecuteTime": {
          "end_time": "2019-08-02T01:35:42.257553Z",
          "start_time": "2019-08-02T01:35:42.254539Z"
        },
        "id": "7-nEP6KrOdCo",
        "run_control": {
          "frozen": false,
          "read_only": false
        }
      },
      "source": [
        "dist31LYtoKPC = 2500000 * u.lyr\n",
        "dist31LYtoKPC = dist31LYtoKPC.to(u.kpc)"
      ],
      "execution_count": 398,
      "outputs": []
    },
    {
      "cell_type": "markdown",
      "metadata": {
        "id": "_pTXgdTL8jv6",
        "run_control": {
          "frozen": false,
          "read_only": false
        }
      },
      "source": [
        "Print the distance like I printed the angular size. \n",
        "\n",
        "To get the physical size of the visible component of andtomeda you can use simple trigonometry: $y = r * sin(\\alpha) ~ \\sim ~ r \\alpha $ for small angles \n",
        "\n",
        "\n",
        "Print the physical size of the Andromeda galaxy (remember decimal digits, proper formatting etc etc). \n"
      ]
    },
    {
      "cell_type": "code",
      "metadata": {
        "ExecuteTime": {
          "end_time": "2019-08-02T01:35:42.815232Z",
          "start_time": "2019-08-02T01:35:42.810316Z"
        },
        "colab": {
          "base_uri": "https://localhost:8080/"
        },
        "id": "0y_V9AuFOdCv",
        "run_control": {
          "frozen": false,
          "read_only": false
        },
        "outputId": "5fd1a1c1-0c68-4cc6-ce38-06271d055107"
      },
      "source": [
        "size31 = np.around(dist31LYtoKPC*np.sin(m31angS.to(u.rad)),3)\n",
        "size31Approx = ((dist31LYtoKPC*(m31angS.to(u.rad)))/(u.rad))\n",
        "print(\"size:\", size31)\n",
        "print(\"size approx:\", size31Approx)\n",
        "print(\"Size of the visible component of Andromeda...:\", size31)\n",
        "m31Rds = (size31 / u.kpc)/2\n",
        "print(\"m31Rds =\", m31Rds)"
      ],
      "execution_count": 399,
      "outputs": [
        {
          "output_type": "stream",
          "name": "stdout",
          "text": [
            "size: 42.347 kpc\n",
            "size approx: 42.36815618753948 kpc\n",
            "Size of the visible component of Andromeda...: 42.347 kpc\n",
            "m31Rds = 21.1735\n"
          ]
        }
      ]
    },
    {
      "cell_type": "markdown",
      "metadata": {
        "id": "97o52hRhOdCy",
        "run_control": {
          "frozen": false,
          "read_only": false
        }
      },
      "source": [
        "### find the first measurement  in your data table that includes all the luminous mass. \n",
        "\n",
        "What is the smallest radius in your data where the luminous mass is completely included and what is the veolcity at that radius?\n",
        "You can do it by broadcasting (see homework 3)"
      ]
    },
    {
      "cell_type": "markdown",
      "metadata": {
        "id": "TVWiU84XOdDA",
        "run_control": {
          "frozen": false,
          "read_only": false
        }
      },
      "source": [
        "We expect the velocity to decrease as 1/r if all mass is included: the velocity at a radius twice as far as the radius that includes all the mass should be a factor 2 slower, three times as far a factor 3 slower. "
      ]
    },
    {
      "cell_type": "code",
      "metadata": {
        "id": "QhdegtbVnphX"
      },
      "source": [
        "#m31"
      ],
      "execution_count": 400,
      "outputs": []
    },
    {
      "cell_type": "markdown",
      "metadata": {
        "id": "b096Ax33SiXl",
        "run_control": {
          "frozen": false,
          "read_only": false
        }
      },
      "source": [
        "write a function that \n",
        "\n",
        "1. finds the smallest radius in the dataset that is at least N times the radius of the visible galaxy, \n",
        "\n",
        "2. takes as arguments:\n",
        "    - the data and \n",
        "    - N \n",
        "    - the size of the luminous component of the galaxy\n",
        " \n",
        "2. Returns the value of the radius and its uncertainty and the velocity and its uncertainty"
      ]
    },
    {
      "cell_type": "code",
      "metadata": {
        "ExecuteTime": {
          "end_time": "2019-08-02T02:07:26.053511Z",
          "start_time": "2019-08-02T02:07:26.046677Z"
        },
        "id": "-_O34Bb7OdC2",
        "run_control": {
          "frozen": false,
          "read_only": false
        }
      },
      "source": [
        "def getradii(gal, gsize, n):\n",
        "\n",
        "  findSmalls = gal[gal.r >= (gsize*n)]\n",
        "  galFiltered = findSmalls[findSmalls.r == findSmalls.r.min()]\n",
        "  \n",
        "\n",
        "  galRad = np.around(galFiltered[\"r\"].values[0],2)\n",
        "  galVel = np.around(galFiltered[\"v\"].values[0],2)\n",
        "  galErr = np.around(galFiltered[\"err\"].values[0],2)\n",
        "  galDv = np.around(galFiltered[\"dv\"].values[0],2)\n",
        "\n",
        "  return galRad, galVel, galErr, galDv\n",
        "  ..."
      ],
      "execution_count": 401,
      "outputs": []
    },
    {
      "cell_type": "code",
      "metadata": {
        "colab": {
          "base_uri": "https://localhost:8080/"
        },
        "id": "vQ-WzFMHBQEF",
        "outputId": "d110e4cf-4f0d-40e1-faa4-d96571232877"
      },
      "source": [
        "getradii(m31,size31,3)"
      ],
      "execution_count": 402,
      "outputs": [
        {
          "output_type": "execute_result",
          "data": {
            "text/plain": [
              "(146.98, 177.52, 16.66, 81.76)"
            ]
          },
          "metadata": {},
          "execution_count": 402
        }
      ]
    },
    {
      "cell_type": "markdown",
      "metadata": {
        "ExecuteTime": {
          "end_time": "2019-08-01T18:13:58.231637Z",
          "start_time": "2019-08-01T18:13:58.229447Z"
        },
        "id": "ogu_iquzOdC5",
        "run_control": {
          "frozen": false,
          "read_only": false
        }
      },
      "source": [
        "### data visualization"
      ]
    },
    {
      "cell_type": "markdown",
      "metadata": {
        "id": "kJ6MujVJUyel",
        "run_control": {
          "frozen": false,
          "read_only": false
        }
      },
      "source": [
        "make a plot that shows\n",
        "\n",
        "1. the rotational curve of the galaxy (as a line)\n",
        "\n",
        "2. each velocity as an errorbar with error equal to err in the same color as the line in 1\n",
        "\n",
        "3. each velocity as an errorbar with error equal to dv in  the same color but a different line thickness\n",
        "\n",
        "\n",
        "4. the datapoint corresponding to N=1, 2, 3 each in a different color. \n",
        "\n",
        "5. add a legend that indicates the meaning of each color (```pl.legend()```)\n",
        "\n",
        "6. add a text that indicates the velocity and its uncertainty (dv and err) just below the largest errorbar (```pl.text()```)\n",
        "\n",
        "7. limit the x axis to the \"relevant\" portion of the data"
      ]
    },
    {
      "cell_type": "code",
      "metadata": {
        "colab": {
          "base_uri": "https://localhost:8080/"
        },
        "id": "_j-k4GSKoUJy",
        "outputId": "c3e4e7ec-6cdc-40e5-b123-f96857ebadd7"
      },
      "source": [
        "galVel = getradii(m31,size31,3)\n",
        "print(galVel)"
      ],
      "execution_count": 403,
      "outputs": [
        {
          "output_type": "stream",
          "name": "stdout",
          "text": [
            "(146.98, 177.52, 16.66, 81.76)\n"
          ]
        }
      ]
    },
    {
      "cell_type": "code",
      "metadata": {
        "ExecuteTime": {
          "end_time": "2019-08-02T03:01:27.556063Z",
          "start_time": "2019-08-02T03:01:27.302184Z"
        },
        "colab": {
          "base_uri": "https://localhost:8080/",
          "height": 350
        },
        "id": "7IMXYY8BOdC6",
        "run_control": {
          "frozen": false,
          "read_only": false
        },
        "outputId": "eaf51b2e-9023-4233-e9b2-ab0dc8bb7f31"
      },
      "source": [
        "def plotGal(gal, rds):\n",
        "  fig = plt.figure()\n",
        "  fig.set_size_inches(7, 5)\n",
        "  ax = fig.add_subplot(111)\n",
        "  ax.set_xlabel('radius (kpc)', fontsize = 10)\n",
        "  ax.set_ylabel('velocity (km/s)', fontsize = 10)\n",
        "\n",
        "  N1 = getradii(gal,rds,1)\n",
        "  N2 = getradii(gal,rds,2)\n",
        "  N3 = getradii(gal,rds,3)\n",
        "\n",
        "  ax.set_xlim([0, rds*4])\n",
        "  ax.set_ylim([0,400])\n",
        "  \n",
        "  ax.plot(gal.r,gal.v,color='dodgerblue')\n",
        "  vel = ax.errorbar(gal.r,gal.v,yerr=gal.err,color = 'dodgerblue',elinewidth = 3)\n",
        "  ax.errorbar(gal.r,gal.v,yerr=gal.dv,color = 'dodgerblue',elinewidth = 1)\n",
        "\n",
        "  rad1 = ax.errorbar(N1[0],N1[1],yerr=N1[3], color = 'orange')\n",
        "  ax.errorbar(N1[0],N1[1],yerr=N1[2], color = 'black')\n",
        "  ax.text(N1[0]-4,N1[1]-N1[3]-15,str(N1[1]))\n",
        "  ax.text(N1[0]-8,N1[1]-N1[3]-35,\"(\"+str(N1[3])+\", \"+str(N1[2])+\")\")\n",
        "  \n",
        "\n",
        "  rad2 = ax.errorbar(N2[0],N2[1],yerr=N2[3], color = 'green')\n",
        "  ax.errorbar(N2[0],N2[1],yerr=N2[2], color = 'black')\n",
        "  ax.text(N2[0]-4,N2[1]-N2[3]-15,str(N2[1]))\n",
        "  ax.text(N2[0]-8,N2[1]-N2[3]-35,\"(\"+str(N2[3])+\", \"+str(N2[2])+\")\")\n",
        "\n",
        "\n",
        "\n",
        "  rad3 = ax.errorbar(N3[0],N3[1],yerr=N3[3], color = 'red')\n",
        "  ax.errorbar(N3[0],N3[1],yerr=N3[2], color = 'black')\n",
        "  ax.text(N3[0]-4,N3[1]-N3[3]-15,str(N3[1]))\n",
        "  ax.text(N3[0]-8,N3[1]-N3[3]-35,\"(\"+str(N3[3])+\", \"+str(N3[2])+\")\")\n",
        "\n",
        "\n",
        "\n",
        "\n",
        "\n",
        "  blue_line = mlines.Line2D([],[],color='dodgerblue', label='v')\n",
        "  orange_line = mlines.Line2D([],[],color='orange', label='radius')\n",
        "  green_line = mlines.Line2D([],[],color='green', label='2xradius')\n",
        "  red_line = mlines.Line2D([],[],color='red', label='3xradius')\n",
        "\n",
        "  ax.legend(handles=[blue_line,orange_line,green_line,red_line],bbox_to_anchor=(1.223, 1.016))\n",
        "  \n",
        "  ax.set_title(\"galaxy rotational curve\")\n",
        "\n",
        "plotGal(m31, m31Rds)"
      ],
      "execution_count": 404,
      "outputs": [
        {
          "output_type": "display_data",
          "data": {
            "image/png": "[encoded data removed]",
            "text/plain": [
              "<Figure size 504x360 with 1 Axes>"
            ]
          },
          "metadata": {
            "needs_background": "light"
          }
        }
      ]
    },
    {
      "cell_type": "markdown",
      "metadata": {
        "id": "ehGwXS415Dh2"
      },
      "source": [
        "Caption:\n",
        "This plot is a galactic rotation curve for M31. It has it's velocities plotted against the radius up til about three times the radius of M31. As seen in the plot, this curve does not follow the $ v^2 \\propto \\frac{1}{r} $ proportion based on Newton's equation. \n",
        "\n",
        "Under the colored error bars with the corresponding radius, is the velocity at that radius and underneath that value is the uncertainty of velocity, (dv,err), the standard deviation (propagation of the uncertainty in the location of the HII line) and standard error (full error budget).\n",
        "\n",
        "The thin error bars throughout are the standard deviation uncertainties and the thicker error bars are the standard error uncertainties.\n",
        "\n",
        " This data tells us that there is something affecting the galaxy to where the newtonian equations are not accurate. Since as the radius increases, the velocity does not decrease proportionally."
      ]
    },
    {
      "cell_type": "markdown",
      "metadata": {
        "id": "bIbv3YrhTo0X",
        "run_control": {
          "frozen": false,
          "read_only": false
        }
      },
      "source": [
        "Write a function that for a given dataset and a given luminous radius and a given N \n",
        "  \n",
        "  1) uses the function above to find the radius at least as large as needed and the velocity at that radius, \n",
        "  \n",
        "  2) states the expected drop in rotational velocities according to Newton's law $v^2\\propto 1/r$\n",
        "  \n",
        "  3) calculates the ratio of radii and the ratio of velocities at N radii from the center N=1 and N=N (input, e.g. 2, 3 etc) with uncertainties, \n",
        "  \n",
        "  4) and stated whether that ratio is consistent within the uncertainties with Newton's law $v^2 \\propto 1/r$\n",
        "  \n",
        "Your function should print \n",
        "\n",
        "     - the expected ratio based on the radii, \n",
        "     - the calculated ratio using ```dv```, and its uncertainty, - \n",
        "     - the 2-$\\sigma$ upper and lower limits of the calculated ratio\n",
        "     - whether the expected ratio is within the $2-\\sigma$ of the calculated ratio, \n",
        "  5) and the same using ```err```  instead of ```dv```"
      ]
    },
    {
      "cell_type": "code",
      "metadata": {
        "ExecuteTime": {
          "end_time": "2019-08-02T02:22:18.485172Z",
          "start_time": "2019-08-02T02:22:18.477807Z"
        },
        "id": "1hhTw8N4OdDB",
        "run_control": {
          "frozen": false,
          "read_only": false
        }
      },
      "source": [
        "def vratios(gal, rds, N, err='dv'):\n",
        "      \n",
        "  galInfo = getradii(gal,rds,N)\n",
        "\n",
        "  expDropV = np.around(1/galInfo[0],3)\n",
        "  print(\"Expected drop in velocities ratio according to Newton's law:\",str(1) + \"/\" + str(galInfo[0]),\"=\",expDropV )\n",
        "\n",
        "  if err == 'dv':\n",
        "    \n",
        "    \n",
        "    N1 = getradii(gal,rds,1)\n",
        "    calcDropV = np.around(N1[1]/galInfo[1],3)\n",
        "    DVcalcDropV = np.around(galInfo[3],3)\n",
        "    sigLow = np.around(calcDropV - 2*DVcalcDropV,3)\n",
        "    sigHigh = np.around(calcDropV + 2*DVcalcDropV,3)\n",
        "\n",
        "\n",
        "    print(\"Calculated drop in velocities ratio with 'dv' uncertainty:\"\n",
        "    ,str(N1[1]) + \"/\" + str(galInfo[1]) + \" = \" +str(calcDropV) + \" with an uncertainty of ± \"+str(DVcalcDropV))\n",
        "\n",
        "    print(\"2σ lower limit: \",sigLow)\n",
        "    print(\"2σ upper limit: \",sigHigh)\n",
        "\n",
        "    if (sigLow <= expDropV <= sigHigh):\n",
        "      print(\"The expected ratio is within 2σ of the calculated ratio\")\n",
        "\n",
        "    else:\n",
        "      print(\"The expected ratio is NOT within 2σ of the calculated ratio\")  \n",
        "\n",
        "\n",
        "\n",
        "\n",
        "\n",
        "  if err == 'err':\n",
        "    N1 = getradii(gal,rds,1)\n",
        "    calcDropV = np.around(N1[1]/galInfo[1],3)\n",
        "    ERRcalcDropV = np.around(galInfo[2],3)\n",
        "    sigLow = np.around(calcDropV - 2*ERRcalcDropV,3)\n",
        "    sigHigh = np.around(calcDropV + 2*ERRcalcDropV,3)\n",
        "\n",
        "    print(\"Calculated drop in velocities ratio with 'err' uncertainty:\"\n",
        "    ,str(N1[1]) + \"/\" + str(galInfo[1]) + \" = \" +str(calcDropV) + \" with an uncertainty of ± \"+str(ERRcalcDropV))\n",
        "\n",
        "    print(\"2σ lower limit: \",sigLow)\n",
        "    print(\"2σ upper limit: \",sigHigh)\n",
        "    if (sigLow <= expDropV <= sigHigh):\n",
        "      print(\"The expected ratio is within 2σ of the calculated ratio\")\n",
        "\n",
        "    else:\n",
        "      print(\"The expected ratio is NOT within 2σ of the calculated ratio\")  \n",
        "\n",
        "\n"
      ],
      "execution_count": 405,
      "outputs": []
    },
    {
      "cell_type": "code",
      "metadata": {
        "colab": {
          "base_uri": "https://localhost:8080/"
        },
        "id": "Udg5BqH5Qvc6",
        "outputId": "9749a845-f7cd-4768-f04f-a50ee2629c70"
      },
      "source": [
        "vratios(m31,m31Rds,3,err='dv')"
      ],
      "execution_count": 406,
      "outputs": [
        {
          "output_type": "stream",
          "name": "stdout",
          "text": [
            "Expected drop in velocities ratio according to Newton's law: 1/70.88 = 0.014\n",
            "Calculated drop in velocities ratio with 'dv' uncertainty: 236.51/218.49 = 1.082 with an uncertainty of ± 132.35\n",
            "2σ lower limit:  -263.618\n",
            "2σ upper limit:  265.782\n",
            "The expected ratio is within 2σ of the calculated ratio\n"
          ]
        }
      ]
    },
    {
      "cell_type": "code",
      "metadata": {
        "colab": {
          "base_uri": "https://localhost:8080/"
        },
        "id": "72BpykP51KrJ",
        "outputId": "89c66458-df31-4c3a-a989-b7b8777a51a7"
      },
      "source": [
        "vratios(m31,m31Rds,3,err='err')"
      ],
      "execution_count": 407,
      "outputs": [
        {
          "output_type": "stream",
          "name": "stdout",
          "text": [
            "Expected drop in velocities ratio according to Newton's law: 1/70.88 = 0.014\n",
            "Calculated drop in velocities ratio with 'err' uncertainty: 236.51/218.49 = 1.082 with an uncertainty of ± 24.66\n",
            "2σ lower limit:  -48.238\n",
            "2σ upper limit:  50.402\n",
            "The expected ratio is within 2σ of the calculated ratio\n"
          ]
        }
      ]
    },
    {
      "cell_type": "markdown",
      "metadata": {
        "ExecuteTime": {
          "end_time": "2019-08-02T00:36:41.637045Z",
          "start_time": "2019-08-02T00:36:41.634825Z"
        },
        "id": "6me5k4c1OdDY",
        "run_control": {
          "frozen": false,
          "read_only": false
        }
      },
      "source": [
        "### Discuss!"
      ]
    },
    {
      "cell_type": "markdown",
      "metadata": {
        "id": "aPaLw-NxAfpJ"
      },
      "source": [
        "So the expected drop is much more than the calculated drops in velocity and has more uncertainty when calculated with dv instead of err, as shown in the plots. Now the expected ratio is within 2σ of the calculated ratio for both uncertainties, but the meaning of this is still quite confusing to me.\n",
        "\n",
        "\n",
        "The results are the same for the functions done on the Milky Way galaxy down below.\n",
        "\n",
        "So I understand the expectation is within 2σ of the calculation, so does this mean that the calculation value is valid because the expectation falls within the 2σ range that we have decided? So does this mean that we can conclude that something IS indeed affecting the galaxy to where our expected value is not the same as the calculated value?\n"
      ]
    },
    {
      "cell_type": "markdown",
      "metadata": {
        "id": "QIHRn8UlOdDZ",
        "run_control": {
          "frozen": false,
          "read_only": false
        }
      },
      "source": [
        "## do the same for the Milky Way. If your functions were create properly you should be able to reuse them seamlessly"
      ]
    },
    {
      "cell_type": "code",
      "metadata": {
        "id": "NVp9cJzv-Dic",
        "run_control": {
          "frozen": false,
          "read_only": false
        }
      },
      "source": [
        "mw = pd.read_csv(\"https://raw.githubusercontent.com/fedhere/DSPS_FBianco/master/HW4/mw.csv\",header=1)\n",
        "mw = mw[['R(kpc)', 'V(km/s)', 'St.dev.','St.error']].rename({'R(kpc)':\"r\", 'V(km/s)':\"v\", 'St.dev.':\"dv\",'St.error':\"err\"}, axis=1)\n"
      ],
      "execution_count": 408,
      "outputs": []
    },
    {
      "cell_type": "code",
      "metadata": {
        "colab": {
          "base_uri": "https://localhost:8080/",
          "height": 204
        },
        "id": "WknWAegJ1r_t",
        "outputId": "d04c0d39-9303-4c5f-b811-5e1b8d5fca00"
      },
      "source": [
        "mw.head()"
      ],
      "execution_count": 409,
      "outputs": [
        {
          "output_type": "execute_result",
          "data": {
            "text/html": [
              "<div>\n",
              "<style scoped>\n",
              "    .dataframe tbody tr th:only-of-type {\n",
              "        vertical-align: middle;\n",
              "    }\n",
              "\n",
              "    .dataframe tbody tr th {\n",
              "        vertical-align: top;\n",
              "    }\n",
              "\n",
              "    .dataframe thead th {\n",
              "        text-align: right;\n",
              "    }\n",
              "</style>\n",
              "<table border=\"1\" class=\"dataframe\">\n",
              "  <thead>\n",
              "    <tr style=\"text-align: right;\">\n",
              "      <th></th>\n",
              "      <th>r</th>\n",
              "      <th>v</th>\n",
              "      <th>dv</th>\n",
              "      <th>err</th>\n",
              "    </tr>\n",
              "  </thead>\n",
              "  <tbody>\n",
              "    <tr>\n",
              "      <th>0</th>\n",
              "      <td>0.010</td>\n",
              "      <td>119.061</td>\n",
              "      <td>41.832</td>\n",
              "      <td>32.714</td>\n",
              "    </tr>\n",
              "    <tr>\n",
              "      <th>1</th>\n",
              "      <td>0.012</td>\n",
              "      <td>115.268</td>\n",
              "      <td>35.199</td>\n",
              "      <td>17.100</td>\n",
              "    </tr>\n",
              "    <tr>\n",
              "      <th>2</th>\n",
              "      <td>0.014</td>\n",
              "      <td>117.392</td>\n",
              "      <td>35.152</td>\n",
              "      <td>14.429</td>\n",
              "    </tr>\n",
              "    <tr>\n",
              "      <th>3</th>\n",
              "      <td>0.017</td>\n",
              "      <td>118.475</td>\n",
              "      <td>35.252</td>\n",
              "      <td>14.870</td>\n",
              "    </tr>\n",
              "    <tr>\n",
              "      <th>4</th>\n",
              "      <td>0.021</td>\n",
              "      <td>110.386</td>\n",
              "      <td>33.817</td>\n",
              "      <td>14.427</td>\n",
              "    </tr>\n",
              "  </tbody>\n",
              "</table>\n",
              "</div>"
            ],
            "text/plain": [
              "       r        v      dv     err\n",
              "0  0.010  119.061  41.832  32.714\n",
              "1  0.012  115.268  35.199  17.100\n",
              "2  0.014  117.392  35.152  14.429\n",
              "3  0.017  118.475  35.252  14.870\n",
              "4  0.021  110.386  33.817  14.427"
            ]
          },
          "metadata": {},
          "execution_count": 409
        }
      ]
    },
    {
      "cell_type": "code",
      "metadata": {
        "id": "l8D5R8KP1vD7"
      },
      "source": [
        "mwRds = np.around((52850 * u.lyr).to(u.kpc)/u.kpc,3)\n"
      ],
      "execution_count": 410,
      "outputs": []
    },
    {
      "cell_type": "code",
      "metadata": {
        "colab": {
          "base_uri": "https://localhost:8080/",
          "height": 350
        },
        "id": "MJXjEkob-qFf",
        "outputId": "a71342b4-de84-4eea-c97e-d929c6673b6b"
      },
      "source": [
        "plotGal(mw, mwRds)"
      ],
      "execution_count": 411,
      "outputs": [
        {
          "output_type": "display_data",
          "data": {
            "image/png": "[encoded data removed]",
            "text/plain": [
              "<Figure size 504x360 with 1 Axes>"
            ]
          },
          "metadata": {
            "needs_background": "light"
          }
        }
      ]
    },
    {
      "cell_type": "markdown",
      "metadata": {
        "id": "9jKRiUX7_hnr"
      },
      "source": [
        "Caption:\n",
        "This plot is a galactic rotation curve for our Milky Way Galaxy. It has it's velocities plotted against the radius up til about three times the radius of the Milky Way Galaxy. As seen in the plot, this curve does not follow the $ v^2 \\propto \\frac{1}{r} $ proportion based on Newton's equation. \n",
        "\n",
        "Under the colored error bars with the corresponding radius, is the velocity at that radius and underneath that value is the uncertainty of velocity, (dv,err), the standard deviation (propagation of the uncertainty in the location of the HII line) and standard error (full error budget).\n",
        "\n",
        "The thin error bars throughout are the standard deviation uncertainties and the thicker error bars are the standard error uncertainties.\n",
        "\n",
        " This data tells us that there is something affecting the galaxy to where the newtonian equations are not accurate. Since as the radius increases, the velocity does not decrease proportionally."
      ]
    },
    {
      "cell_type": "code",
      "metadata": {
        "colab": {
          "base_uri": "https://localhost:8080/"
        },
        "id": "zsDpIXD9_CNp",
        "outputId": "255b7d08-b683-4eee-9af3-901fe64f9261"
      },
      "source": [
        "vratios(mw,mwRds,3,err='dv')"
      ],
      "execution_count": 412,
      "outputs": [
        {
          "output_type": "stream",
          "name": "stdout",
          "text": [
            "Expected drop in velocities ratio according to Newton's law: 1/52.66 = 0.019\n",
            "Calculated drop in velocities ratio with 'dv' uncertainty: 252.48/175.41 = 1.439 with an uncertainty of ± 56.81\n",
            "2σ lower limit:  -112.181\n",
            "2σ upper limit:  115.059\n",
            "The expected ratio is within 2σ of the calculated ratio\n"
          ]
        }
      ]
    },
    {
      "cell_type": "code",
      "metadata": {
        "colab": {
          "base_uri": "https://localhost:8080/"
        },
        "id": "hDKs3hcf_N_W",
        "outputId": "1f7121c6-b8c3-44b4-9739-0ca1119a7204"
      },
      "source": [
        "vratios(mw,mwRds,3,err='err')"
      ],
      "execution_count": 413,
      "outputs": [
        {
          "output_type": "stream",
          "name": "stdout",
          "text": [
            "Expected drop in velocities ratio according to Newton's law: 1/52.66 = 0.019\n",
            "Calculated drop in velocities ratio with 'err' uncertainty: 252.48/175.41 = 1.439 with an uncertainty of ± 20.16\n",
            "2σ lower limit:  -38.881\n",
            "2σ upper limit:  41.759\n",
            "The expected ratio is within 2σ of the calculated ratio\n"
          ]
        }
      ]
    },
    {
      "cell_type": "code",
      "metadata": {
        "id": "llXPbINE_Pnk"
      },
      "source": [
        ""
      ],
      "execution_count": 413,
      "outputs": []
    }
  ]
}